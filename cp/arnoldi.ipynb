{
 "cells": [
  {
   "cell_type": "markdown",
   "id": "10ebcecb-c626-42c5-94f3-2c48826cedf7",
   "metadata": {
    "id": "10ebcecb-c626-42c5-94f3-2c48826cedf7"
   },
   "source": [
    "# Метод Арнолди"
   ]
  },
  {
   "cell_type": "markdown",
   "id": "128b4e12-3d78-4c2b-8c86-cfcda95d7ba1",
   "metadata": {
    "id": "128b4e12-3d78-4c2b-8c86-cfcda95d7ba1"
   },
   "source": [
    "## Предварительная информация"
   ]
  },
  {
   "cell_type": "markdown",
   "id": "b15eba36-8c57-48d5-bd26-e9d1ec672ac6",
   "metadata": {
    "id": "b15eba36-8c57-48d5-bd26-e9d1ec672ac6"
   },
   "source": [
    "### Степенной метод"
   ]
  },
  {
   "cell_type": "markdown",
   "id": "b134238b-3ea0-42b3-9bb8-f3cc799272fb",
   "metadata": {
    "id": "b134238b-3ea0-42b3-9bb8-f3cc799272fb"
   },
   "source": [
    "Пусть дана некоторая матрица $A$ и вектор случайных значений $b$. \n",
    "Тогда, посредством многократного возведения этой матрицы и умножения на\n",
    "$b$, он сходится к собственному вектору $v_1$, соответствующему\n",
    "максимальному по модулю собственному значению $\\lambda_1$, или __спектральному\n",
    "радиусу__:\n",
    "\n",
    "$$\n",
    "    A^k b \\xrightarrow[k \\to \\infty]{} v_1\n",
    "$$\n",
    "\n",
    "По-другому это можно считать как:\n",
    "\n",
    "$$\n",
    "    b_0 = b \\\\\n",
    "    b_1 = Ab_0 \\\\\n",
    "    b_2 = Ab_1 = A \\cdot Ab_0 = A^2b_0 \\\\\n",
    "    ... \\\\\n",
    "    b_k = Ab_{k-1}\n",
    "$$\n",
    "\n",
    "Собственное значение высчитывается через формулу:\n",
    "\n",
    "$$\n",
    "    \\lambda_1 = \\frac{(b_k,b_{k-1})}{(b_{k-1},b_{k-1})}\n",
    "$$"
   ]
  },
  {
   "cell_type": "markdown",
   "id": "2f9391dc-d9a5-424a-ae69-fc8d7bbd5d19",
   "metadata": {
    "id": "2f9391dc-d9a5-424a-ae69-fc8d7bbd5d19"
   },
   "source": [
    "### Матрица и подпространство Крылова\n",
    "\n",
    "Степенной метод позволяет быстро посчитать спектральный радиус на \n",
    "разреженной матрице (при хорошей реализации матрично-векторного умножения),\n",
    "но теряет много информации просто взяв самое последнее значение.\n",
    "\n",
    "Матрица Крылова сохраняет в себе все предыдущие итерации степенного метода\n",
    "и имеет вид:\n",
    "\n",
    "$$\n",
    "    K_n = \\left[ b | Ab | A^2b | ... | A^{n-1}b \\right]\n",
    "$$\n",
    "\n",
    "Подпространство Крылова образуется из линейной оболочки столбцов матрицы $K_n$:\n",
    "\n",
    "$$\n",
    "    \\mathcal{K}_n = span \\left\\{ b, Ab, A^2b, ..., A^{n-1}b \\right\\}\n",
    "$$\n",
    "\n",
    "В пространстве Крылова оперируют разные методы, например метод \n",
    "сопряженных градиентов для решения уравнения $Ax = y$ на разреженных матрицах, \n",
    "но матрица Крылова, как базис, страдает от проблем, возникающих из свойств \n",
    "степенного метода:\n",
    "\n",
    "* При возведении матрицы в степень значения растут очень быстро и \n",
    "  приведут к переполнению в численном подсчете (хотя, как и в степенном методе,\n",
    "  вектора можно просто нормализовать после каждой итерации);\n",
    "* Все последующие за начальным вектором $b$ вектора $Ab, A^2b, ...$\n",
    "  неортогональны и мало подходят в качестве базиса."
   ]
  },
  {
   "cell_type": "markdown",
   "id": "4a19eaef-36ec-4384-9bf8-0791ec71f822",
   "metadata": {
    "id": "4a19eaef-36ec-4384-9bf8-0791ec71f822"
   },
   "source": [
    "## Метод Арнольди\n",
    "\n",
    "Интуитивно, метод Арнольди является модифицированным процессом Грама-Шмидта, \n",
    "который одновременно высчитывает ортонормированный базис Крылова и проекцию матрицы\n",
    "$A$ на неё.\n",
    "\n",
    "Метод приводит несамосопряженную матрицу $A$ к верхней Хессенберговой форме $H$.\n",
    "Формульно это можно записать $A = QHQ^*$ или $AQ = QH$.\n",
    "\n",
    "Пусть матрица $A$ имеет размер $m \\times m$, матрица $Q_n$ имеет размер $m \\times n$\n",
    "для некоторого значения $n < m$ (обозначает размер подпространства Крылова) и \n",
    "имеет первые $n$ столбцов матрицы $Q$, а \n",
    "$\\tilde{H}_n$ - Хессенбергова матрица размером $(n+1) \\times n$ - \n",
    "левая верхняя часть матрицы $H$. Тогда в матричном виде формула будет иметь вид:\n",
    "\n",
    "$$\n",
    "    [A]\n",
    "    \\begin{bmatrix}\n",
    "    q_1 | & \\cdots & | q_n\n",
    "    \\end{bmatrix}\n",
    "    =\n",
    "    \\begin{bmatrix}\n",
    "    q_1 | & \\cdots & | q_{n+1}\n",
    "    \\end{bmatrix}\n",
    "    \\begin{bmatrix}\n",
    "    h_{11} & \\cdots & h_{1n} \\\\\n",
    "    h_{21} & & \\vdots \\\\\n",
    "     & \\ddots  \\\\\n",
    "     & & h_{n+1,1}\n",
    "    \\end{bmatrix}\n",
    "$$\n",
    "\n",
    "Итоговое выражение имеет вид: $AQ_n = Q_{n+1}\\tilde{H}$\n",
    "\n",
    "Столбец $n$ этого выражения можно высчитать по формуле:\n",
    "\n",
    "$$\n",
    "    Aq_n = h_{1n}q_1 + h_{2n}q_2 + ... + h_{n+1,n}q_{n+1}\n",
    "$$\n",
    "\n",
    "Здесь столбец $q_{n+1}$ высчитывается рекуррентно из предыдущих значений $q$,\n",
    "начальный вектор $q_1$ является нормированным вектором $b$.\n",
    "\n",
    "Следует заметить, что, если выбирать размер подпространства Крылова $n$\n",
    "больше размера матрицы $m$, то, все последующие вектора $q_{n+1}$ будут\n",
    "принимать нулевые значения, т.к. все аппроксимации собственных значений\n",
    "сошлись с их реальными значениями.\n",
    "\n",
    "В программном виде метод Арнольди будет иметь вид:"
   ]
  },
  {
   "cell_type": "code",
   "execution_count": 1,
   "id": "bb8a1502-efc3-448c-a12c-5036fd4b7e0b",
   "metadata": {
    "executionInfo": {
     "elapsed": 1636,
     "status": "ok",
     "timestamp": 1622540311527,
     "user": {
      "displayName": "Александр Ефимов",
      "photoUrl": "https://lh3.googleusercontent.com/a-/AOh14GiYxzNH9cS4CN3d8zvmdypKPc3dEUQqfVzCx-1Jkw=s64",
      "userId": "06033327314451293349"
     },
     "user_tz": -180
    },
    "id": "bb8a1502-efc3-448c-a12c-5036fd4b7e0b"
   },
   "outputs": [],
   "source": [
    "import numpy as np\n",
    "\n",
    "def arnoldi_iteration(A, b, n):\n",
    "    m = A.shape[0]\n",
    "    Q = np.zeros((m, n + 1))\n",
    "    H = np.zeros((n + 1, n))\n",
    "    q = b / np.linalg.norm(b)\n",
    "    Q[:, 0] = q\n",
    "\n",
    "    for k in range(n):\n",
    "        v = np.dot(A, q)  # Следующий вектор Крылова\n",
    "\n",
    "        for j in range(k + 1):  # Процесс Грама-Шмидта - вычет проекций\n",
    "            H[j, k] = np.dot(Q[:, j].conj(), v)\n",
    "            v -= H[j, k] * Q[:, j]\n",
    "\n",
    "        H[k+1, k] = np.linalg.norm(v)\n",
    "        eps = 1e-5 # Из-за плавующей точки итоговый вектор может быть только\n",
    "        if H[k+1, k] > eps:  # приблизительно нулевым\n",
    "            q = v / H[k+1, k]\n",
    "            Q[:, k + 1] = q\n",
    "        else:  # Если он близок к нулю, то все собственные значения сошлись\n",
    "            break\n",
    "    return Q, H"
   ]
  },
  {
   "cell_type": "markdown",
   "id": "1fe1c116-f4bb-48c9-a208-3c770951e076",
   "metadata": {
    "id": "1fe1c116-f4bb-48c9-a208-3c770951e076"
   },
   "source": [
    "На разреженных матрицах алгоритм работает быстрее прямых методов \n",
    "подсчета собственных значений по двум причинам:\n",
    "* Вовсе не используется дорогая операция умножения матрицы на матрицу,\n",
    "  а используется простая операция умножения матрицы на вектор, которую\n",
    "  можно дальше оптимизировать для разреженных матриц;\n",
    "* Ранее были выделены только части $Q_n$ и $\\tilde{H}_n$ от полных матриц,\n",
    "  $Q$ и $H$. Это возможно, так как метод Арнольди базируется на процессе \n",
    "  Грама-Шмидта, который можно прервать. Арнольди будет возвращать $n$\n",
    "  первых __аппроксимаций__ (необязательно близких к истинным) \n",
    "  собственных значений.\n",
    "  \n",
    "Точность аппроксимаций растет с размером подпространства Крылова, \n",
    "начиная с наибольших по модулю собственных значений (чем больше \n",
    "собственное значение, тем быстрее оно аппроксимируется). Аппроксимации\n",
    "собственных значений будут содержаться в матрице $\\tilde{H}_n$,\n",
    "которые можно получить, например, с помощью QR-алгоритма,\n",
    "учитывая, что матрица Хессинберга уже приведенная.\n",
    "\n",
    "Если матрица $A$ самосопряженная, метод сводится к алгоритму Ланцоша, а\n",
    "Хессенбергова матрица приобретает трехдиагональный вид."
   ]
  },
  {
   "cell_type": "markdown",
   "id": "3a610dac-fe30-4cb7-8716-37a894ce89c9",
   "metadata": {
    "id": "3a610dac-fe30-4cb7-8716-37a894ce89c9"
   },
   "source": [
    "### Пример\n",
    "\n",
    "В качестве примера простая диагональная матрица, \n",
    "где собственные значения лежат на диагонали:"
   ]
  },
  {
   "cell_type": "code",
   "execution_count": 2,
   "id": "8a62d490-101a-4210-a34d-e9ebb8bb3786",
   "metadata": {
    "colab": {
     "base_uri": "https://localhost:8080/",
     "height": 136,
     "referenced_widgets": [
      "a6c7bf446e064b84994eeeb17c7e80c4",
      "49a39ad93b444aa29fae210e43053e2d",
      "0fe4555b02094562b1ca7710f388a152",
      "92cad398918a4fdaa5a993736d34d4b6",
      "fcb420447ead47b090a6a1cc25953dae",
      "dc3518ad339f429fae9b513a5f2bcfd7",
      "40d2fa849bb34b5090581448dc9d0fbf"
     ]
    },
    "executionInfo": {
     "elapsed": 29,
     "status": "ok",
     "timestamp": 1622540311956,
     "user": {
      "displayName": "Александр Ефимов",
      "photoUrl": "https://lh3.googleusercontent.com/a-/AOh14GiYxzNH9cS4CN3d8zvmdypKPc3dEUQqfVzCx-1Jkw=s64",
      "userId": "06033327314451293349"
     },
     "user_tz": -180
    },
    "id": "8a62d490-101a-4210-a34d-e9ebb8bb3786",
    "outputId": "0935c7d0-1b29-4007-9efe-759cb9615eed"
   },
   "outputs": [
    {
     "data": {
      "application/vnd.jupyter.widget-view+json": {
       "model_id": "dcec18d4992a4db88b097de85b0d4064",
       "version_major": 2,
       "version_minor": 0
      },
      "text/plain": [
       "interactive(children=(IntSlider(value=10, description='n', max=20, min=1), Output()), _dom_classes=('widget-in…"
      ]
     },
     "metadata": {},
     "output_type": "display_data"
    },
    {
     "data": {
      "text/plain": [
       "<function __main__.f(matr, n)>"
      ]
     },
     "execution_count": 2,
     "metadata": {},
     "output_type": "execute_result"
    }
   ],
   "source": [
    "from qr_algo import qr_algorithm\n",
    "from ipywidgets import interact\n",
    "import ipywidgets\n",
    "\n",
    "diagonal = np.diagflat(np.arange(1, 21))\n",
    "\n",
    "def f(matr, n):\n",
    "    Q, H = arnoldi_iteration(matr, np.ones((len(matr),)), n)\n",
    "    # print(f\"Hessenberg matrix:\\n{np.round(H, 3)}\")\n",
    "    print(f\"\\nEigenvalues: {qr_algorithm(H[:-1, :], 1e-5)}\")\n",
    "    \n",
    "interact(f, matr=ipywidgets.fixed(diagonal), n=(1,len(diagonal)))"
   ]
  },
  {
   "cell_type": "markdown",
   "id": "c368d0d2-92b5-46cb-814c-c30d5e096529",
   "metadata": {
    "id": "c368d0d2-92b5-46cb-814c-c30d5e096529"
   },
   "source": [
    "Последний столбец Хессенберговой матрицы нужен только для сохранения реккурентости\n",
    "и необходимо удалить для подсчета собственных значений."
   ]
  },
  {
   "cell_type": "markdown",
   "id": "411ca266-c570-42ee-ae11-f26a3f7d01cc",
   "metadata": {
    "id": "411ca266-c570-42ee-ae11-f26a3f7d01cc"
   },
   "source": [
    "Другим примером будет матрица, используемая при разработке QR-алгоритма:"
   ]
  },
  {
   "cell_type": "code",
   "execution_count": 3,
   "id": "f075aa5d-af42-4f33-ad0a-62a704e24c6c",
   "metadata": {
    "colab": {
     "base_uri": "https://localhost:8080/",
     "height": 101,
     "referenced_widgets": [
      "5e3c895f54de4a09a1080198cf22ec0d",
      "a5a31211c69a44e0a173bc1ab046637e",
      "3acf563e747e4fc1b9a7b306accbf29a",
      "20f5d84f425140c393deb693cdb18aa1",
      "8af719de385a429abf63b90bfa3840aa",
      "06522573214f4e4e80edec6da072f975",
      "2da7662e1f394750a6db7deec77ad252"
     ]
    },
    "executionInfo": {
     "elapsed": 22,
     "status": "ok",
     "timestamp": 1622540311958,
     "user": {
      "displayName": "Александр Ефимов",
      "photoUrl": "https://lh3.googleusercontent.com/a-/AOh14GiYxzNH9cS4CN3d8zvmdypKPc3dEUQqfVzCx-1Jkw=s64",
      "userId": "06033327314451293349"
     },
     "user_tz": -180
    },
    "id": "f075aa5d-af42-4f33-ad0a-62a704e24c6c",
    "outputId": "df7b0703-1e23-4ff1-d419-33645cd64fc3"
   },
   "outputs": [
    {
     "data": {
      "application/vnd.jupyter.widget-view+json": {
       "model_id": "4aa6d5cc87a44aec917f4bbd97da0526",
       "version_major": 2,
       "version_minor": 0
      },
      "text/plain": [
       "interactive(children=(IntSlider(value=2, description='n', max=3, min=1), Output()), _dom_classes=('widget-inte…"
      ]
     },
     "metadata": {},
     "output_type": "display_data"
    },
    {
     "data": {
      "text/plain": [
       "<function __main__.f(matr, n)>"
      ]
     },
     "execution_count": 3,
     "metadata": {},
     "output_type": "execute_result"
    }
   ],
   "source": [
    "matrix2 = np.array([[ 9,  0,  2], \n",
    "                    [-6,  4,  4], \n",
    "                    [-2, -7,  5]])\n",
    "\n",
    "interact(f, matr=ipywidgets.fixed(matrix2), n=(1,len(matrix2)))"
   ]
  },
  {
   "cell_type": "markdown",
   "id": "a16076c1-7c7b-45bf-a3f9-0e3c01ccb7e5",
   "metadata": {
    "id": "a16076c1-7c7b-45bf-a3f9-0e3c01ccb7e5"
   },
   "source": [
    "Меняя размер подпространства Крылова, можно заметить, что собственные значения\n",
    "сначала стремятся достичь наибольшие по модулю, точность увеличивается с \n",
    "размерностью подпространства."
   ]
  },
  {
   "cell_type": "markdown",
   "id": "23b49d9e-e6e5-4712-a7d8-b3ac212f290d",
   "metadata": {
    "id": "23b49d9e-e6e5-4712-a7d8-b3ac212f290d"
   },
   "source": [
    "## Применение\n",
    "\n",
    "Кроме прямого применения на разреженных матрицах для быстрого получения\n",
    "приведенной матрицы и нахождения на ней собственных значений,\n",
    "метод Арнольди используется методом _GMRES_ (Generalized Minimal\n",
    "Residual Method), ищущего численное решение для систем с бесконеченым\n",
    "множеством решений, а также лежит в основе метода сопряженных градиентов."
   ]
  }
 ],
 "metadata": {
  "colab": {
   "collapsed_sections": [],
   "name": "report.ipynb",
   "provenance": [],
   "toc_visible": true
  },
  "kernelspec": {
   "display_name": "Python 3",
   "language": "python",
   "name": "python3"
  },
  "language_info": {
   "codemirror_mode": {
    "name": "ipython",
    "version": 3
   },
   "file_extension": ".py",
   "mimetype": "text/x-python",
   "name": "python",
   "nbconvert_exporter": "python",
   "pygments_lexer": "ipython3",
   "version": "3.9.5"
  },
  "widgets": {
   "application/vnd.jupyter.widget-state+json": {
    "state": {
     "0d9f7ab6eac749049ef2413a0336aade": {
      "model_module": "@jupyter-widgets/controls",
      "model_module_version": "1.5.0",
      "model_name": "SliderStyleModel",
      "state": {
       "description_width": ""
      }
     },
     "23bbd598273042cbaae5b88db40c0a40": {
      "model_module": "@jupyter-widgets/controls",
      "model_module_version": "1.5.0",
      "model_name": "IntSliderModel",
      "state": {
       "description": "n",
       "layout": "IPY_MODEL_9060d96d23f34f65bb1c903eefb2499b",
       "max": 20,
       "min": 1,
       "style": "IPY_MODEL_f9afeb08832148ea9a6fdca77690a9cf",
       "value": 10
      }
     },
     "2eff8cb8cee641208b2c91b0a41827bc": {
      "model_module": "@jupyter-widgets/base",
      "model_module_version": "1.2.0",
      "model_name": "LayoutModel",
      "state": {}
     },
     "4aa6d5cc87a44aec917f4bbd97da0526": {
      "model_module": "@jupyter-widgets/controls",
      "model_module_version": "1.5.0",
      "model_name": "VBoxModel",
      "state": {
       "_dom_classes": [
        "widget-interact"
       ],
       "children": [
        "IPY_MODEL_63d836e13c2741a19262d41d3e58957d",
        "IPY_MODEL_bce07559cf3b4c6390db4328c9375ad6"
       ],
       "layout": "IPY_MODEL_945b4a4aaa60497e969f844a82e4d02e"
      }
     },
     "63d836e13c2741a19262d41d3e58957d": {
      "model_module": "@jupyter-widgets/controls",
      "model_module_version": "1.5.0",
      "model_name": "IntSliderModel",
      "state": {
       "description": "n",
       "layout": "IPY_MODEL_2eff8cb8cee641208b2c91b0a41827bc",
       "max": 3,
       "min": 1,
       "style": "IPY_MODEL_0d9f7ab6eac749049ef2413a0336aade",
       "value": 2
      }
     },
     "848bfe9989f8489da14c13291021c586": {
      "model_module": "@jupyter-widgets/output",
      "model_module_version": "1.0.0",
      "model_name": "OutputModel",
      "state": {
       "layout": "IPY_MODEL_d78c347d855d424bbe4434b664dc615e",
       "outputs": [
        {
         "name": "stdout",
         "output_type": "stream",
         "text": "\nEigenvalues: [19.986225 +0.j 18.752674 +0.j 16.96443  +0.j 14.622232 +0.j\n 11.915923 +0.j  9.084077 +0.j  6.377768 +0.j  4.035569 +0.j\n  2.247326 +0.j  1.0137758+0.j]\n"
        }
       ]
      }
     },
     "84a5b7e2bed14a36aa8e6ca85b41258c": {
      "model_module": "@jupyter-widgets/base",
      "model_module_version": "1.2.0",
      "model_name": "LayoutModel",
      "state": {}
     },
     "9060d96d23f34f65bb1c903eefb2499b": {
      "model_module": "@jupyter-widgets/base",
      "model_module_version": "1.2.0",
      "model_name": "LayoutModel",
      "state": {}
     },
     "945b4a4aaa60497e969f844a82e4d02e": {
      "model_module": "@jupyter-widgets/base",
      "model_module_version": "1.2.0",
      "model_name": "LayoutModel",
      "state": {}
     },
     "bce07559cf3b4c6390db4328c9375ad6": {
      "model_module": "@jupyter-widgets/output",
      "model_module_version": "1.0.0",
      "model_name": "OutputModel",
      "state": {
       "layout": "IPY_MODEL_84a5b7e2bed14a36aa8e6ca85b41258c",
       "outputs": [
        {
         "name": "stdout",
         "output_type": "stream",
         "text": "\nEigenvalues: [-5.236842+4.122686j -5.236842-4.122686j]\n"
        }
       ]
      }
     },
     "cc5e1d60956a4e519525cf0773152134": {
      "model_module": "@jupyter-widgets/base",
      "model_module_version": "1.2.0",
      "model_name": "LayoutModel",
      "state": {}
     },
     "d78c347d855d424bbe4434b664dc615e": {
      "model_module": "@jupyter-widgets/base",
      "model_module_version": "1.2.0",
      "model_name": "LayoutModel",
      "state": {}
     },
     "dcec18d4992a4db88b097de85b0d4064": {
      "model_module": "@jupyter-widgets/controls",
      "model_module_version": "1.5.0",
      "model_name": "VBoxModel",
      "state": {
       "_dom_classes": [
        "widget-interact"
       ],
       "children": [
        "IPY_MODEL_23bbd598273042cbaae5b88db40c0a40",
        "IPY_MODEL_848bfe9989f8489da14c13291021c586"
       ],
       "layout": "IPY_MODEL_cc5e1d60956a4e519525cf0773152134"
      }
     },
     "f9afeb08832148ea9a6fdca77690a9cf": {
      "model_module": "@jupyter-widgets/controls",
      "model_module_version": "1.5.0",
      "model_name": "SliderStyleModel",
      "state": {
       "description_width": ""
      }
     }
    },
    "version_major": 2,
    "version_minor": 0
   }
  }
 },
 "nbformat": 4,
 "nbformat_minor": 5
}
