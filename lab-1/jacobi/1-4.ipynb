{
 "cells": [
  {
   "cell_type": "markdown",
   "id": "0182ba22",
   "metadata": {},
   "source": [
    "# Лабораторная 1\n",
    "## Подраздел: метод Якоби\n",
    "\n",
    "* Cтудент: Ефимов А.В.\n",
    "* Группа: М8О-307Б\n",
    "* Вариант: 7"
   ]
  },
  {
   "cell_type": "markdown",
   "id": "0b869231",
   "metadata": {},
   "source": [
    "Загрузка библиотек, настройка лог сообщений и загрузка матрицы:"
   ]
  },
  {
   "cell_type": "code",
   "execution_count": 1,
   "id": "9d99f229",
   "metadata": {},
   "outputs": [
    {
     "name": "stdout",
     "output_type": "stream",
     "text": [
      "Input matrix:\n",
      "[[-6  6 -8]\n",
      " [ 6 -4  9]\n",
      " [-8  9 -2]]\n",
      "Selected epsilon: 0.0001\n"
     ]
    }
   ],
   "source": [
    "import math\n",
    "import numpy as np\n",
    "import logging, json\n",
    "\n",
    "MAX_ITER = 1000 # Max iterations in case something goes south\n",
    "\n",
    "# Configurations\n",
    "np.set_printoptions(suppress=True)\n",
    "logging.basicConfig(level=logging.DEBUG)\n",
    "\n",
    "# Load matrix and eps\n",
    "with open(\"task.json\", \"r\") as json_file:\n",
    "    task = json.load(json_file)\n",
    "\n",
    "matrix = np.array(task[\"matrix\"])\n",
    "try:\n",
    "    eps = task[\"epsilon\"]\n",
    "except KeyError:\n",
    "    eps = 10e-5\n",
    "\n",
    "print(f\"Input matrix:\\n{matrix}\")\n",
    "print(f\"Selected epsilon: {eps}\")"
   ]
  },
  {
   "cell_type": "markdown",
   "id": "7325d9e4",
   "metadata": {},
   "source": [
    "Метод Якоби основывается на приведении симметрической матрицы к диагональной матрице \n",
    "(тогда итоговая матрица будет состоять только из действительных собственных значений) \n",
    "за счет ее итеративного умножения на матрицы вращений для зануления недиагональных \n",
    "элементов. Матрица считается приведенной, если норма матрицы без диагональных элементов\n",
    "равна (или близка к) нулю."
   ]
  },
  {
   "cell_type": "markdown",
   "id": "a96d0581",
   "metadata": {},
   "source": [
    "Для начала нужно выделить функцию, которая будут искать максимальные элементы вне\n",
    "диагонали, и функцию для нормы без диагонали:"
   ]
  },
  {
   "cell_type": "code",
   "execution_count": 2,
   "id": "30d3ebd9",
   "metadata": {},
   "outputs": [
    {
     "name": "stdout",
     "output_type": "stream",
     "text": [
      "[[  5  14  23]\n",
      " [ 14  50  86]\n",
      " [ 23  86 149]]\n",
      "90.11659114724658\n",
      "(1, 2)\n"
     ]
    }
   ],
   "source": [
    "def non_diagonal_norm(matrix):\n",
    "    total = 0\n",
    "    for i in range(len(matrix)):\n",
    "        for j in range(i + 1, len(matrix[i])):\n",
    "            total += matrix[i][j] ** 2\n",
    "    return (math.sqrt(total))\n",
    "\n",
    "def max_non_diagonal(matrix):\n",
    "    max_i, max_j = 0, 1\n",
    "    max_val = abs(matrix[max_i][max_j])\n",
    "    for i in range(len(matrix)):\n",
    "        for j in range(i + 1, len(matrix[i])):\n",
    "            val = abs(matrix[i][j])\n",
    "\n",
    "            if max_val < val:\n",
    "                max_val = val\n",
    "                max_i, max_j = i, j\n",
    "    return (max_i, max_j)\n",
    "\n",
    "matr = np.arange(9).reshape((3, 3))\n",
    "sym_matr = matr @ matr.T\n",
    "print(sym_matr)\n",
    "print(non_diagonal_norm(sym_matr))\n",
    "print(max_non_diagonal(sym_matr))"
   ]
  },
  {
   "cell_type": "markdown",
   "id": "3420089b",
   "metadata": {},
   "source": [
    "Следует сделать замечание, что после всех преобразований матрица остается симметричной,\n",
    "поэтому операции можно делать только над одим из треугольников"
   ]
  },
  {
   "cell_type": "markdown",
   "id": "c08cc4e4",
   "metadata": {},
   "source": [
    "Матрица поворота будет высчитываться на основе индексов максимального элемента, поэтому её также можно определить отдельно:"
   ]
  },
  {
   "cell_type": "code",
   "execution_count": 3,
   "id": "48ef083a",
   "metadata": {},
   "outputs": [],
   "source": [
    "def create_rotation(matrix, i, j):\n",
    "    rotation = np.identity(len(matrix))\n",
    "    if matrix[i, i] == matrix[j, j]:\n",
    "        angle = math.pi / 4\n",
    "    else:\n",
    "        angle = math.atan(2 * matrix[i, j] / (matrix[i, i] - matrix[j, j])) / 2\n",
    "\n",
    "    s = math.sin(angle)\n",
    "    c = math.cos(angle)\n",
    "\n",
    "    rotation[i, j] = -s;\n",
    "    rotation[j, j] = c;\n",
    "    rotation[j, i] = s;\n",
    "    rotation[i, i] = c;\n",
    "    \n",
    "    return rotation"
   ]
  },
  {
   "cell_type": "markdown",
   "id": "bec5504e",
   "metadata": {},
   "source": [
    "Итеративная функция Якоби будет иметь вид:"
   ]
  },
  {
   "cell_type": "code",
   "execution_count": 4,
   "id": "1665fcf1",
   "metadata": {},
   "outputs": [],
   "source": [
    "def jacobi_iteration(matrix, eps=10e-5):\n",
    "    matrix  = matrix.copy()\n",
    "    vectors = np.identity(len(matrix))\n",
    "    \n",
    "    logging.info(f\"Input matrix:\\n{matrix}\")\n",
    "    logging.info(f\"Input eps: {eps}\")\n",
    "\n",
    "    iter_no = 1\n",
    "    while non_diagonal_norm(matrix) >= eps and iter_no <= MAX_ITER:\n",
    "        logging.debug(f\"Iteration no. {iter_no} -------------------\")\n",
    "        max_i, max_j = max_non_diagonal(matrix)\n",
    "        rotation = create_rotation(matrix, max_i, max_j)\n",
    "        \n",
    "        logging.debug(f\"Max element on position {(max_i, max_j)}, \"\n",
    "                      \"resulting in rotation:\\n{rotation}\")\n",
    "\n",
    "        vectors  = vectors @ rotation\n",
    "\n",
    "        matrix = matrix @ rotation\n",
    "        rotation = rotation.T\n",
    "        matrix = rotation @ matrix\n",
    "        \n",
    "        logging.debug(f\"Current matrix:\\n{matrix}\")\n",
    "        logging.debug(f\"Current eigenvectors:\\n{vectors.T}\")\n",
    "        \n",
    "        iter_no += 1\n",
    "        \n",
    "    logging.debug(f\"Values found in {iter_no} iterations\")\n",
    "    return np.diag(matrix), vectors"
   ]
  },
  {
   "cell_type": "code",
   "execution_count": 5,
   "id": "ab58b80a",
   "metadata": {},
   "outputs": [
    {
     "name": "stderr",
     "output_type": "stream",
     "text": [
      "INFO:root:Input matrix:\n",
      "[[-6  6 -8]\n",
      " [ 6 -4  9]\n",
      " [-8  9 -2]]\n",
      "INFO:root:Input eps: 0.0001\n",
      "DEBUG:root:Iteration no. 1 -------------------\n",
      "DEBUG:root:Max element on position (1, 2), resulting in rotation:\n",
      "{rotation}\n",
      "DEBUG:root:Current matrix:\n",
      "[[ -6.           9.80613981  -1.95949537]\n",
      " [  9.80613981 -12.05538514   0.        ]\n",
      " [ -1.95949537   0.           6.05538514]]\n",
      "DEBUG:root:Current eigenvectors:\n",
      "[[ 1.          0.          0.        ]\n",
      " [ 0.          0.74512802 -0.66692146]\n",
      " [ 0.          0.66692146  0.74512802]]\n",
      "DEBUG:root:Iteration no. 2 -------------------\n",
      "DEBUG:root:Max element on position (0, 1), resulting in rotation:\n",
      "{rotation}\n",
      "DEBUG:root:Current matrix:\n",
      "[[  1.23521638   0.          -1.57676265]\n",
      " [  0.         -19.29060152   1.16337511]\n",
      " [ -1.57676265   1.16337511   6.05538514]]\n",
      "DEBUG:root:Current eigenvectors:\n",
      "[[ 0.80467792  0.44239114 -0.395959  ]\n",
      " [-0.59371159  0.59958806 -0.53665697]\n",
      " [ 0.          0.66692146  0.74512802]]\n",
      "DEBUG:root:Iteration no. 3 -------------------\n",
      "DEBUG:root:Max element on position (0, 2), resulting in rotation:\n",
      "{rotation}\n",
      "DEBUG:root:Current matrix:\n",
      "[[  0.76525091   0.33230567  -0.        ]\n",
      " [  0.33230567 -19.29060152   1.11490564]\n",
      " [  0.           1.11490564   6.52535062]]\n",
      "DEBUG:root:Current eigenvectors:\n",
      "[[ 0.77115278  0.61445887 -0.16662439]\n",
      " [-0.59371159  0.59958806 -0.53665697]\n",
      " [-0.22984765  0.51277134  0.82718535]]\n",
      "DEBUG:root:Iteration no. 4 -------------------\n",
      "DEBUG:root:Max element on position (1, 2), resulting in rotation:\n",
      "{rotation}\n",
      "DEBUG:root:Current matrix:\n",
      "[[  0.76525091   0.33199736   0.01431123]\n",
      " [  0.33199736 -19.33866114  -0.        ]\n",
      " [  0.01431123   0.           6.57341024]]\n",
      "DEBUG:root:Current eigenvectors:\n",
      "[[ 0.77115278  0.61445887 -0.16662439]\n",
      " [-0.58326203  0.57694853 -0.57178301]\n",
      " [-0.25520345  0.53811773  0.80330599]]\n",
      "DEBUG:root:Iteration no. 5 -------------------\n",
      "DEBUG:root:Max element on position (0, 1), resulting in rotation:\n",
      "{rotation}\n",
      "DEBUG:root:Current matrix:\n",
      "[[  0.77073204   0.           0.01430928]\n",
      " [ -0.         -19.34414228  -0.00023624]\n",
      " [  0.01430928  -0.00023624   6.57341024]]\n",
      "DEBUG:root:Current eigenvectors:\n",
      "[[ 0.76141961  0.62389902 -0.17604029]\n",
      " [-0.59591222  0.56672685 -0.56895458]\n",
      " [-0.25520345  0.53811773  0.80330599]]\n",
      "DEBUG:root:Iteration no. 6 -------------------\n",
      "DEBUG:root:Max element on position (0, 2), resulting in rotation:\n",
      "{rotation}\n",
      "DEBUG:root:Current matrix:\n",
      "[[  0.77069675   0.00000058   0.        ]\n",
      " [  0.00000058 -19.34414228  -0.00023624]\n",
      " [  0.          -0.00023624   6.57344552]]\n",
      "DEBUG:root:Current eigenvectors:\n",
      "[[ 0.76204662  0.62257015 -0.17802067]\n",
      " [-0.59591222  0.56672685 -0.56895458]\n",
      " [-0.25332505  0.5396546   0.80286944]]\n",
      "DEBUG:root:Iteration no. 7 -------------------\n",
      "DEBUG:root:Max element on position (1, 2), resulting in rotation:\n",
      "{rotation}\n",
      "DEBUG:root:Current matrix:\n",
      "[[  0.77069675   0.00000058  -0.        ]\n",
      " [  0.00000058 -19.34414228  -0.        ]\n",
      " [ -0.           0.           6.57344552]]\n",
      "DEBUG:root:Current eigenvectors:\n",
      "[[ 0.76204662  0.62257015 -0.17802067]\n",
      " [-0.59591453  0.56673177 -0.56894726]\n",
      " [-0.25331961  0.53964944  0.80287462]]\n",
      "DEBUG:root:Values found in 8 iterations\n"
     ]
    },
    {
     "name": "stdout",
     "output_type": "stream",
     "text": [
      "Eigenvalues:  [  0.77069675 -19.34414228   6.57344552]\n",
      "Eigenvectors: \n",
      "[[ 0.76204662 -0.59591453 -0.25331961]\n",
      " [ 0.62257015  0.56673177  0.53964944]\n",
      " [-0.17802067 -0.56894726  0.80287462]]\n"
     ]
    }
   ],
   "source": [
    "values, vectors = jacobi_iteration(matrix)\n",
    "\n",
    "print(\"Eigenvalues: \", values)\n",
    "print(\"Eigenvectors: \")\n",
    "print(vectors)"
   ]
  },
  {
   "cell_type": "markdown",
   "id": "cbba1253",
   "metadata": {},
   "source": [
    "Проверить можно исходя из ортогональности собственных векторов друг другу:"
   ]
  },
  {
   "cell_type": "code",
   "execution_count": 6,
   "id": "0d55c303",
   "metadata": {},
   "outputs": [
    {
     "name": "stdout",
     "output_type": "stream",
     "text": [
      "Vectors 0 and 1: -1.3877787807814457e-17\n",
      "Vectors 0 and 2: 2.7755575615628914e-17\n",
      "Vectors 1 and 2: -5.551115123125783e-17\n"
     ]
    }
   ],
   "source": [
    "cnt = len(vectors)\n",
    "\n",
    "for i in range(cnt):\n",
    "    for j in range(i + 1, cnt):\n",
    "        print(f\"Vectors {i} and {j}: {np.dot(vectors[:, i], vectors[:, j])}\")"
   ]
  },
  {
   "cell_type": "markdown",
   "id": "f3663b91",
   "metadata": {},
   "source": [
    "Видно, что в пределах погрешности они равны нулю."
   ]
  }
 ],
 "metadata": {
  "kernelspec": {
   "display_name": "Python 3",
   "language": "python",
   "name": "python3"
  },
  "language_info": {
   "codemirror_mode": {
    "name": "ipython",
    "version": 3
   },
   "file_extension": ".py",
   "mimetype": "text/x-python",
   "name": "python",
   "nbconvert_exporter": "python",
   "pygments_lexer": "ipython3",
   "version": "3.9.5"
  }
 },
 "nbformat": 4,
 "nbformat_minor": 5
}
