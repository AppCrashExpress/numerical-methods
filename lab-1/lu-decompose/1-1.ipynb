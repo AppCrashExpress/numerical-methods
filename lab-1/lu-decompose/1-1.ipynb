{
 "cells": [
  {
   "cell_type": "markdown",
   "id": "df85179f",
   "metadata": {},
   "source": [
    "# Лабораторная 1\n",
    "## Подраздел: LU-разложение\n",
    "\n",
    "* Cтудент: Ефимов А.В.\n",
    "* Группа: М8О-307Б\n",
    "* Вариант: 7"
   ]
  },
  {
   "cell_type": "markdown",
   "id": "b03b1a9c",
   "metadata": {},
   "source": [
    "Загрузка библиотек, матрицы"
   ]
  },
  {
   "cell_type": "code",
   "execution_count": 1,
   "id": "dba17f3a",
   "metadata": {},
   "outputs": [],
   "source": [
    "import numpy as np\n",
    "import logging, json\n",
    "from math import isclose\n",
    "\n",
    "# Configure\n",
    "logging.basicConfig(level=logging.DEBUG)\n",
    "\n",
    "# Load matrix\n",
    "with open(\"task.json\", \"r\") as json_file:\n",
    "    task = json.load(json_file)\n",
    "\n",
    "matrix = np.array(task[\"matrix\"])\n",
    "constants = np.array(task[\"constants\"])\n"
   ]
  },
  {
   "cell_type": "markdown",
   "id": "42d0f95b",
   "metadata": {},
   "source": [
    "Функция разложения матрицы на нижнюю и верхнуюю треугольные, выполняющаяся методом Гаусса:"
   ]
  },
  {
   "cell_type": "code",
   "execution_count": 3,
   "id": "06784015",
   "metadata": {},
   "outputs": [
    {
     "name": "stderr",
     "output_type": "stream",
     "text": [
      "INFO:root:Input matrix:\n",
      "[[ 1 -5 -7  1]\n",
      " [ 1 -3 -9 -4]\n",
      " [-2  4  2  1]\n",
      " [-9  9  5  3]]\n",
      "DEBUG:root:Iteration no. 0\n",
      "DEBUG:root:Max value on row 3: 9\n",
      "DEBUG:root:Current upper:\n",
      "[[-9.          9.          5.          3.        ]\n",
      " [ 0.         -2.         -8.444445   -3.6666667 ]\n",
      " [ 0.          2.          0.88888884  0.3333333 ]\n",
      " [ 0.         -4.         -6.4444447   1.3333334 ]]\n",
      "DEBUG:root:Current lower:\n",
      "[[ 1.          0.          0.          0.        ]\n",
      " [-0.11111111  0.          0.          0.        ]\n",
      " [ 0.22222222  0.          0.          0.        ]\n",
      " [-0.11111111  0.          0.          0.        ]]\n",
      "DEBUG:root:Current permutations: [3 1 2 0 1]\n",
      "DEBUG:root:Iteration no. 1\n",
      "DEBUG:root:Max value on row 3: 9\n",
      "DEBUG:root:Current upper:\n",
      "[[-9.         9.         5.         3.       ]\n",
      " [ 0.        -4.        -6.4444447  1.3333334]\n",
      " [ 0.         0.        -2.3333335  1.       ]\n",
      " [ 0.         0.        -5.2222223 -4.3333335]]\n",
      "DEBUG:root:Current lower:\n",
      "[[ 1.          0.          0.          0.        ]\n",
      " [-0.11111111  1.          0.          0.        ]\n",
      " [ 0.22222222 -0.5         0.          0.        ]\n",
      " [-0.11111111  0.5         0.          0.        ]]\n",
      "DEBUG:root:Current permutations: [3 0 2 1 2]\n",
      "DEBUG:root:Iteration no. 2\n",
      "DEBUG:root:Max value on row 3: 5\n",
      "DEBUG:root:Current upper:\n",
      "[[-9.         9.         5.         3.       ]\n",
      " [ 0.        -4.        -6.4444447  1.3333334]\n",
      " [ 0.         0.        -5.2222223 -4.3333335]\n",
      " [ 0.         0.         0.         2.9361706]]\n",
      "DEBUG:root:Current lower:\n",
      "[[ 1.          0.          0.          0.        ]\n",
      " [-0.11111111  1.          0.          0.        ]\n",
      " [-0.11111111  0.5         1.          0.        ]\n",
      " [ 0.22222222 -0.5         0.44680855  0.        ]]\n",
      "DEBUG:root:Current permutations: [3 0 1 2 3]\n",
      "DEBUG:root:Iteration no. 3\n",
      "DEBUG:root:Max value on row 3: 3\n",
      "DEBUG:root:Current upper:\n",
      "[[-9.         9.         5.         3.       ]\n",
      " [ 0.        -4.        -6.4444447  1.3333334]\n",
      " [ 0.         0.        -5.2222223 -4.3333335]\n",
      " [ 0.         0.         0.         2.9361706]]\n",
      "DEBUG:root:Current lower:\n",
      "[[ 1.          0.          0.          0.        ]\n",
      " [-0.11111111  1.          0.          0.        ]\n",
      " [-0.11111111  0.5         1.          0.        ]\n",
      " [ 0.22222222 -0.5         0.44680855  1.        ]]\n",
      "DEBUG:root:Current permutations: [3 0 1 2 3]\n",
      "INFO:root:Decomposition finished\n"
     ]
    },
    {
     "name": "stdout",
     "output_type": "stream",
     "text": [
      "Upper:\n",
      "[[-9.         9.         5.         3.       ]\n",
      " [ 0.        -4.        -6.4444447  1.3333334]\n",
      " [ 0.         0.        -5.2222223 -4.3333335]\n",
      " [ 0.         0.         0.         2.9361706]]\n",
      "Lower:\n",
      "[[ 1.          0.          0.          0.        ]\n",
      " [-0.11111111  1.          0.          0.        ]\n",
      " [-0.11111111  0.5         1.          0.        ]\n",
      " [ 0.22222222 -0.5         0.44680855  1.        ]]\n",
      "Permutations: [3 0 1 2 3]\n"
     ]
    }
   ],
   "source": [
    "def decompose_matrix(matrix):\n",
    "    \"\"\"Decomposes the matrix into lower and upper matrices\"\"\"\n",
    "    if matrix.shape[0] != matrix.shape[1]:\n",
    "        raise IndexError(\"Recieved matrix is not square\")\n",
    "    \n",
    "    logging.info(f\"Input matrix:\\n{matrix}\")\n",
    "    \n",
    "    matrix_size = len(matrix)\n",
    "    lower = np.zeros_like(matrix, dtype=np.float32)\n",
    "    upper = np.array(matrix, dtype=np.float32)\n",
    "\n",
    "    permut = np.arange(matrix_size + 1)\n",
    "    permut[matrix_size] = 0\n",
    "\n",
    "    for iter_i in range(matrix_size):\n",
    "        logging.debug(f\"Iteration no. {iter_i}\")\n",
    "        max_i = iter_i\n",
    "        max_val = abs(matrix[iter_i, iter_i])\n",
    "\n",
    "        for i in range(iter_i + 1, matrix_size):\n",
    "            abs_val = abs(matrix[i, iter_i])\n",
    "            if abs_val > max_val:\n",
    "                max_val = abs_val\n",
    "                max_i = i\n",
    "\n",
    "        logging.debug(f\"Max value on row {max_i}: {max_val}\")\n",
    "        if isclose(max_val, 0, abs_tol=10e-5):\n",
    "            raise RuntimeError(\"Recieved matrix is degenerate\")\n",
    "\n",
    "        if iter_i != max_i:\n",
    "            permut[[max_i, iter_i]] = permut[[iter_i, max_i]]\n",
    "            upper[[max_i, iter_i]] = upper[[iter_i, max_i]]\n",
    "            lower[[max_i, iter_i]] = lower[[iter_i, max_i]]\n",
    "            permut[matrix_size] += 1\n",
    "\n",
    "        lower[iter_i, iter_i] = 1\n",
    "        lower[iter_i+1:, iter_i] = (upper[iter_i+1:, iter_i] / upper[iter_i, iter_i])\n",
    "        \n",
    "        upper[iter_i+1:] = upper[iter_i+1:] - np.outer(lower[iter_i+1:, iter_i], upper[iter_i])\n",
    "        \n",
    "        logging.debug(f\"Current upper:\\n{upper}\")\n",
    "        logging.debug(f\"Current lower:\\n{lower}\")\n",
    "        logging.debug(f\"Current permutations: {permut}\")\n",
    "    \n",
    "    logging.info(\"Decomposition finished\")\n",
    "    \n",
    "    return (lower, upper, permut)\n",
    "\n",
    "lower, upper, permutation = decompose_matrix(matrix)\n",
    "print(f\"Upper:\\n{upper}\")\n",
    "print(f\"Lower:\\n{lower}\")\n",
    "print(f\"Permutations: {permutation}\")\n"
   ]
  },
  {
   "cell_type": "markdown",
   "id": "2f14ce5a",
   "metadata": {},
   "source": [
    "Решение системы с помощью разложенной матрицы через системы $Lz = b$ и $Ux = z$"
   ]
  },
  {
   "cell_type": "code",
   "execution_count": 6,
   "id": "b6e12f50",
   "metadata": {},
   "outputs": [
    {
     "name": "stderr",
     "output_type": "stream",
     "text": [
      "INFO:root:Input constants: [-75 -41  18  29]\n",
      "INFO:root:Permuted constants: [ 29 -75 -41  18]\n",
      "DEBUG:root:z = [ 29.        -71.77778    -1.8888893 -23.489365 ]\n",
      "INFO:root:Solution: [ 1.9999992  3.999999   7.        -8.       ]\n"
     ]
    },
    {
     "name": "stdout",
     "output_type": "stream",
     "text": [
      "Solution: [ 1.9999992  3.999999   7.        -8.       ]\n"
     ]
    }
   ],
   "source": [
    "def solve_lu(lower, upper, permutation, constants):\n",
    "    \"\"\"Solves the LU decompostion with given constants \n",
    "    (equation constraints)\"\"\"\n",
    "    matrix_size = len(lower)\n",
    "\n",
    "    logging.info(f\"Input constants: {constants}\")\n",
    "    \n",
    "    constants = constants[permutation[:-1]]\n",
    "\n",
    "    logging.info(f\"Permuted constants: {constants}\")\n",
    "    \n",
    "    temp_constants = np.zeros_like(constants, dtype=np.float32)\n",
    "    for i in range(matrix_size):\n",
    "        for j in range(i):\n",
    "            temp_constants[i] -= temp_constants[j] * lower[i][j]\n",
    "        temp_constants[i] = (temp_constants[i] + constants[i]) / lower[i][i]\n",
    "\n",
    "    logging.debug(f\"z = {temp_constants}\")\n",
    "    \n",
    "    result = np.zeros_like(constants, dtype=np.float32)\n",
    "    for i in reversed(range(matrix_size)):\n",
    "        for j in range(i + 1, matrix_size):\n",
    "            result[i] -= result[j] * upper[i][j]\n",
    "        result[i] = (result[i] + temp_constants[i]) / upper[i][i]\n",
    "\n",
    "    logging.info(f\"Solution: {result}\")\n",
    "        \n",
    "    return result\n",
    "\n",
    "x_vals = solve_lu(lower, upper, permutation, constants)\n",
    "print(f\"Solution: {x_vals}\")"
   ]
  },
  {
   "cell_type": "markdown",
   "id": "e8a50f1b",
   "metadata": {},
   "source": [
    "Через разложение можно найти определитель (при этом учитывая, что одна перестановка меняла знак на отрицательный, а две - самоуничтожались):"
   ]
  },
  {
   "cell_type": "code",
   "execution_count": 9,
   "id": "05dc6a8e",
   "metadata": {},
   "outputs": [
    {
     "name": "stdout",
     "output_type": "stream",
     "text": [
      "LU determinant: 552.0000798651527\n",
      "Numpy determinant: 551.9999999999998\n"
     ]
    }
   ],
   "source": [
    "def calc_lu_determinant(lower, upper, p):\n",
    "    \"\"\"Calculates determinant from LU decomposition. \n",
    "    Permutation array is necessary to calculate sign\"\"\"\n",
    "    result = 1\n",
    "    \n",
    "    matrix_size = len(lower)\n",
    "\n",
    "    for i in range(matrix_size):\n",
    "        result *= lower[i][i] * upper[i][i]\n",
    "\n",
    "    result *= 1 if (p[matrix_size] % 2 == 0) else -1\n",
    "\n",
    "    return result\n",
    "\n",
    "print(f\"LU determinant: {calc_lu_determinant(lower, upper, permutation)}\")\n",
    "print(f\"Numpy determinant: {np.linalg.det(matrix)}\")"
   ]
  },
  {
   "cell_type": "markdown",
   "id": "389a58fb",
   "metadata": {},
   "source": [
    "Наконец, с помощью разложения можно посчитать обратную разложенной матрицы просто\n",
    "решая примыкающую единичную матрицу по столбцам:"
   ]
  },
  {
   "cell_type": "code",
   "execution_count": 10,
   "id": "cbc9a11d",
   "metadata": {},
   "outputs": [
    {
     "name": "stderr",
     "output_type": "stream",
     "text": [
      "INFO:root:Input constants: [1. 0. 0. 0.]\n",
      "INFO:root:Permuted constants: [0. 1. 0. 0.]\n",
      "DEBUG:root:z = [ 0.         1.        -0.5        0.7234043]\n",
      "INFO:root:Solution: [ 0.02898551  0.00724638 -0.10869564  0.2463768 ]\n",
      "INFO:root:Input constants: [0. 1. 0. 0.]\n",
      "INFO:root:Permuted constants: [0. 0. 1. 0.]\n",
      "DEBUG:root:z = [ 0.          0.          1.         -0.44680855]\n",
      "INFO:root:Solution: [-0.0326087   0.05434782 -0.06521738 -0.1521739 ]\n",
      "INFO:root:Input constants: [0. 0. 1. 0.]\n",
      "INFO:root:Permuted constants: [0. 0. 0. 1.]\n",
      "DEBUG:root:z = [0. 0. 0. 1.]\n",
      "INFO:root:Solution: [ 0.52536225  0.5688405  -0.28260866  0.34057966]\n",
      "INFO:root:Input constants: [0. 0. 0. 1.]\n",
      "INFO:root:Permuted constants: [1. 0. 0. 0.]\n",
      "DEBUG:root:z = [ 1.          0.11111111  0.05555556 -0.19148937]\n",
      "INFO:root:Solution: [-0.22826086 -0.1195652   0.04347825 -0.06521738]\n"
     ]
    },
    {
     "name": "stdout",
     "output_type": "stream",
     "text": [
      "Inverse:\n",
      "[[ 0.02898551 -0.0326087   0.52536225 -0.22826086]\n",
      " [ 0.00724638  0.05434782  0.5688405  -0.1195652 ]\n",
      " [-0.10869564 -0.06521738 -0.28260866  0.04347825]\n",
      " [ 0.2463768  -0.1521739   0.34057966 -0.06521738]]\n",
      "Multiplication result:\n",
      "[[ 9.99999918e-01 -7.45058060e-09  0.00000000e+00 -3.72529030e-09]\n",
      " [-3.72529030e-08  9.99999925e-01  2.98023224e-08 -3.72529030e-09]\n",
      " [ 0.00000000e+00 -7.45058060e-09  9.99999851e-01  2.98023224e-08]\n",
      " [-7.45058060e-09  7.45058060e-09 -5.96046448e-08  1.00000003e+00]]\n"
     ]
    }
   ],
   "source": [
    "def calc_lu_inverse(lower, upper, p):\n",
    "    \"\"\"Calculates columns of matrice inverse from its decomposition.\n",
    "    Transposition ensures the same direction of lists as original\"\"\"\n",
    "    matrix_size = len(lower)\n",
    "    result = np.zeros_like(lower, dtype=np.float32)\n",
    "    for i in range(matrix_size):\n",
    "        inverse_column = np.zeros((matrix_size, ))\n",
    "        inverse_column[i] = 1\n",
    "        result[i] = solve_lu(lower, upper, p, inverse_column)\n",
    "\n",
    "    return result.T\n",
    "\n",
    "inverse = calc_lu_inverse(lower, upper, permutation)\n",
    "print(f\"Inverse:\\n{inverse}\")\n",
    "print(f\"Multiplication result:\\n{matrix @ inverse}\")"
   ]
  },
  {
   "cell_type": "code",
   "execution_count": null,
   "id": "23ef975f",
   "metadata": {},
   "outputs": [],
   "source": []
  }
 ],
 "metadata": {
  "kernelspec": {
   "display_name": "Python 3",
   "language": "python",
   "name": "python3"
  },
  "language_info": {
   "codemirror_mode": {
    "name": "ipython",
    "version": 3
   },
   "file_extension": ".py",
   "mimetype": "text/x-python",
   "name": "python",
   "nbconvert_exporter": "python",
   "pygments_lexer": "ipython3",
   "version": "3.9.5"
  }
 },
 "nbformat": 4,
 "nbformat_minor": 5
}
