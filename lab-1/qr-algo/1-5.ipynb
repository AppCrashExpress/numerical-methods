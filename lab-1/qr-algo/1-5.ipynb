{
 "cells": [
  {
   "cell_type": "markdown",
   "id": "0182ba22",
   "metadata": {},
   "source": [
    "# Лабораторная 1\n",
    "## Подраздел: QR метод\n",
    "\n",
    "* Cтудент: Ефимов А.В.\n",
    "* Группа: М8О-307Б\n",
    "* Вариант: 7"
   ]
  },
  {
   "cell_type": "markdown",
   "id": "08be788e",
   "metadata": {},
   "source": [
    "## Задание"
   ]
  },
  {
   "cell_type": "markdown",
   "id": "167fb5fb",
   "metadata": {},
   "source": [
    "Реализовать алгоритм QR - разложения матриц в виде программы. На его основе разработать программу, \n",
    "реализующую QR - алгоритм решения полной проблемы собственных значений произвольных матриц, \n",
    "задавая в качестве входных данных матрицу и точность вычислений. \n",
    "С использованием разработанного программного обеспечения найти собственные значения матрицы. "
   ]
  },
  {
   "cell_type": "markdown",
   "id": "5c4f15a1",
   "metadata": {},
   "source": [
    "## Решение"
   ]
  },
  {
   "cell_type": "markdown",
   "id": "0b869231",
   "metadata": {},
   "source": [
    "Загрузка библиотек, настройка лог сообщений и загрузка матрицы:"
   ]
  },
  {
   "cell_type": "code",
   "execution_count": 1,
   "id": "9d99f229",
   "metadata": {},
   "outputs": [
    {
     "name": "stdout",
     "output_type": "stream",
     "text": [
      "Input matrix:\n",
      "[[ 9  0  2]\n",
      " [-6  4  4]\n",
      " [-2 -7  5]]\n",
      "Selected epsilon: 0.0001\n"
     ]
    }
   ],
   "source": [
    "import math\n",
    "import numpy as np\n",
    "import logging, json\n",
    "from math  import sqrt\n",
    "from cmath import sqrt as comp_sqrt\n",
    "from functools import reduce\n",
    "\n",
    "# Configurations\n",
    "np.set_printoptions(suppress=True)\n",
    "logging.basicConfig(level=logging.DEBUG)\n",
    "\n",
    "# Load matrix and eps\n",
    "with open(\"task.json\", \"r\") as json_file:\n",
    "    task = json.load(json_file)\n",
    "\n",
    "matrix = np.array(task[\"matrix\"])\n",
    "try:\n",
    "    eps = task[\"epsilon\"]\n",
    "except KeyError:\n",
    "    eps = 10e-5\n",
    "\n",
    "print(f\"Input matrix:\\n{matrix}\")\n",
    "print(f\"Selected epsilon: {eps}\")"
   ]
  },
  {
   "cell_type": "markdown",
   "id": "a96d0581",
   "metadata": {},
   "source": [
    "Нахождения матрицы Хаусхолдера:"
   ]
  },
  {
   "cell_type": "code",
   "execution_count": 2,
   "id": "30d3ebd9",
   "metadata": {},
   "outputs": [],
   "source": [
    "def norm(array):\n",
    "    return sqrt(reduce(lambda x, n: x + n*n, array, 0))\n",
    "\n",
    "def calc_householder_vector(matrix, iter_no):\n",
    "    matrix_size = len(matrix)\n",
    "    vector = np.zeros((matrix_size, ))\n",
    "    vector[iter_no:] = matrix[iter_no:, iter_no]\n",
    "\n",
    "    vector[iter_no] += np.sign(vector[iter_no]) * norm(vector)\n",
    "\n",
    "    return vector\n",
    "\n",
    "def calc_householder_matrix(matrix, iter_no):\n",
    "    matrix_size = len(matrix)\n",
    "    identity    = np.identity(matrix_size)\n",
    "    house_vec   = calc_householder_vector(matrix, iter_no)\n",
    "    \n",
    "    coef = 2 / np.dot(house_vec, house_vec)\n",
    "\n",
    "    return identity - coef * (np.outer(house_vec, house_vec))"
   ]
  },
  {
   "cell_type": "markdown",
   "id": "3420089b",
   "metadata": {},
   "source": [
    "QR разложение матрицы:"
   ]
  },
  {
   "cell_type": "code",
   "execution_count": 3,
   "id": "f3760cc1",
   "metadata": {},
   "outputs": [],
   "source": [
    "def qr_decomposition(matrix):\n",
    "    Q = 1\n",
    "\n",
    "    for i in range(len(matrix)):\n",
    "        house = calc_householder_matrix(matrix, i)\n",
    "        Q = np.dot(Q, house)\n",
    "        matrix = np.dot(house, matrix)\n",
    "\n",
    "    return Q, matrix"
   ]
  },
  {
   "cell_type": "markdown",
   "id": "c08cc4e4",
   "metadata": {},
   "source": [
    "Проверка первого условия - все элементы под первой побочной диагональю\n",
    "должны быть близки к нулю:"
   ]
  },
  {
   "cell_type": "code",
   "execution_count": 4,
   "id": "48ef083a",
   "metadata": {},
   "outputs": [],
   "source": [
    "def test_second_eps(matrix, eps):\n",
    "    # Interested in elements below second diagonal:\n",
    "    #  a00   a01   a02  a03 \n",
    "    #  a10   a11   a12  a13 \n",
    "    # [a20]  a21   a22  a23 \n",
    "    # [a30] [a31]  a32  a33 \n",
    "    # ...\n",
    "    \n",
    "    for i, col in enumerate(abs(matrix.T)):\n",
    "        if not all(col[i + 2:] < eps):\n",
    "            return False\n",
    "\n",
    "    return True"
   ]
  },
  {
   "cell_type": "markdown",
   "id": "bec5504e",
   "metadata": {},
   "source": [
    "Получение собственных значений из матрицы.\n",
    "Если первое значение под диагональю близко к нулю, то на диагонали \n",
    "действительное собственное значение.\n",
    "Иначе, если первое значение под диагональю не близко к нулю, \n",
    "то возможно это комплексное значение и блок образует\n",
    "уравнение вида $a\\lambda^2 + b\\lambda + c = 0$.\n",
    "Иначе алгоритм не достаточно сошелся."
   ]
  },
  {
   "cell_type": "code",
   "execution_count": 5,
   "id": "1665fcf1",
   "metadata": {},
   "outputs": [],
   "source": [
    "def get_eigenval(matrix, col_i, eps):\n",
    "    def square_subarray(i):\n",
    "        return matrix[i:i+2, i:i+2]\n",
    "\n",
    "    def check_complex(matrix):\n",
    "        if matrix.shape != (2, 2):\n",
    "            raise ValueError(\"Matrix should be square\")\n",
    "\n",
    "        m = matrix\n",
    "\n",
    "        # a is 1\n",
    "        b = -m[0, 0] - m[1, 1]\n",
    "        c = m[0, 0] * m[1, 1] - m[1, 0] * m[0, 1]\n",
    "\n",
    "        d = b * b - 4 * c\n",
    "\n",
    "        return d < 0\n",
    "\n",
    "    def complex_eigen(matrix):\n",
    "        m = matrix\n",
    "\n",
    "        b = -m[0, 0] - m[1, 1]\n",
    "        c = m[0, 0] * m[1, 1] - m[1, 0] * m[0, 1]\n",
    "\n",
    "        d = b * b - 4 * c\n",
    "\n",
    "        sqrt_d = comp_sqrt(d)\n",
    "\n",
    "        return ( (b + sqrt_d) / 2, (b - sqrt_d) / 2 )\n",
    "\n",
    "    if norm(abs(matrix[col_i+1:, col_i])) <= eps:\n",
    "        return (True, matrix[col_i, col_i], 0)\n",
    "\n",
    "    elif check_complex(square_subarray(col_i)):\n",
    "        prev_comp_0, prev_comp_1 = complex_eigen(square_subarray(col_i))\n",
    "        \n",
    "        Q, R = qr_decomposition(matrix)\n",
    "        matrix = R @ Q\n",
    "\n",
    "        comp_0, comp_1 = complex_eigen(square_subarray(col_i))\n",
    "\n",
    "        close = [0, 0]\n",
    "        close[0] = abs(comp_0 - prev_comp_0) <= eps\n",
    "        close[1] = abs(comp_1 - prev_comp_1) <= eps\n",
    "\n",
    "        if all(close):\n",
    "            return (True, comp_0, comp_1)\n",
    "\n",
    "    return (False, 0, 0)\n"
   ]
  },
  {
   "cell_type": "markdown",
   "id": "2bcf5fc7",
   "metadata": {},
   "source": [
    "Сам QR-алгоритм:"
   ]
  },
  {
   "cell_type": "code",
   "execution_count": 6,
   "id": "ab58b80a",
   "metadata": {},
   "outputs": [],
   "source": [
    "def qr_algorithm(matrix, eps):\n",
    "    matrix_size = len(matrix)\n",
    "\n",
    "    while not test_second_eps(matrix, eps):\n",
    "        Q, R = qr_decomposition(matrix)\n",
    "        matrix = R @ Q\n",
    "\n",
    "    logging.debug(\"Reduced matrix:\\n%s\", str(matrix))\n",
    "\n",
    "    col_i = 0\n",
    "    values = np.zeros((matrix_size, ), dtype=np.complex64)\n",
    "\n",
    "    while col_i < matrix_size - 1:\n",
    "        exists, val_1, val_2 = get_eigenval(matrix, col_i, eps)\n",
    "        if exists:\n",
    "            if np.iscomplex(val_1):\n",
    "                logging.debug(\"Complex values found: %s %s\", str(val_1), str(val_2))\n",
    "                values[col_i] = val_1\n",
    "                values[col_i + 1] = val_2\n",
    "                col_i += 2\n",
    "            else:\n",
    "                logging.debug(\"Real value found: %f\", val_1)\n",
    "                values[col_i] = val_1\n",
    "                col_i += 1\n",
    "        else:\n",
    "            logging.debug(\"No values found, improving...\")\n",
    "            Q, R = qr_decomposition(matrix)\n",
    "            matrix = R @ Q\n",
    "\n",
    "    if values[-1] == 0:\n",
    "        values[-1] = matrix[-1, -1]\n",
    "\n",
    "    logging.debug(f\"Resulting matrix:\\n{matrix}\")\n",
    "    \n",
    "    return values"
   ]
  },
  {
   "cell_type": "code",
   "execution_count": 7,
   "id": "ded2b7df",
   "metadata": {},
   "outputs": [
    {
     "name": "stderr",
     "output_type": "stream",
     "text": [
      "DEBUG:root:Reduced matrix:\n",
      "[[10.027277   -1.28576762 -2.55815559]\n",
      " [-0.00034816  2.51217802  7.78368006]\n",
      " [-0.00007825 -5.05391852  5.46054498]]\n",
      "DEBUG:root:No values found, improving...\n",
      "DEBUG:root:No values found, improving...\n",
      "DEBUG:root:No values found, improving...\n",
      "DEBUG:root:No values found, improving...\n",
      "DEBUG:root:Real value found: 10.027252\n",
      "DEBUG:root:Complex values found: (-3.9863732424333262+6.09624814668469j) (-3.9863732424333262-6.09624814668469j)\n",
      "DEBUG:root:Resulting matrix:\n",
      "[[10.02725205 -1.15957511  2.61806351]\n",
      " [-0.00007501  2.9320109   4.70862117]\n",
      " [-0.00002763 -8.12886917  5.04073705]]\n"
     ]
    },
    {
     "name": "stdout",
     "output_type": "stream",
     "text": [
      "Eigenvalues: \n",
      "[10.027252 +0.j       -3.9863732+6.096248j -3.9863732-6.096248j]\n"
     ]
    }
   ],
   "source": [
    "eigens = qr_algorithm(matrix, eps)\n",
    "print(\"Eigenvalues: \")\n",
    "print(eigens)"
   ]
  },
  {
   "cell_type": "markdown",
   "id": "cbba1253",
   "metadata": {},
   "source": [
    "Проверить можно исходя из ортогональности собственных векторов друг другу:"
   ]
  },
  {
   "cell_type": "markdown",
   "id": "f3663b91",
   "metadata": {},
   "source": [
    "Видно, что в пределах погрешности они равны нулю."
   ]
  }
 ],
 "metadata": {
  "kernelspec": {
   "display_name": "Python 3",
   "language": "python",
   "name": "python3"
  },
  "language_info": {
   "codemirror_mode": {
    "name": "ipython",
    "version": 3
   },
   "file_extension": ".py",
   "mimetype": "text/x-python",
   "name": "python",
   "nbconvert_exporter": "python",
   "pygments_lexer": "ipython3",
   "version": "3.9.5"
  }
 },
 "nbformat": 4,
 "nbformat_minor": 5
}
