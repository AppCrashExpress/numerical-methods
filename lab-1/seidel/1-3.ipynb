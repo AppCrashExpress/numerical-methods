{
 "cells": [
  {
   "cell_type": "markdown",
   "id": "c5cb2db2",
   "metadata": {},
   "source": [
    "# Лабораторная 1\n",
    "## Подраздел: Методы Простых итераций и Зейделя \n",
    "\n",
    "* Cтудент: Ефимов А.В.\n",
    "* Группа: М8О-307Б\n",
    "* Вариант: 7"
   ]
  },
  {
   "cell_type": "markdown",
   "id": "b5c051cb",
   "metadata": {},
   "source": [
    "Загрузка библиотек, матрицы и настройка"
   ]
  },
  {
   "cell_type": "code",
   "execution_count": 2,
   "id": "0d88c3bc",
   "metadata": {},
   "outputs": [],
   "source": [
    "import numpy as np\n",
    "import logging, json\n",
    "from math import sqrt\n",
    "from numpy.linalg import norm\n",
    "\n",
    "# Config\n",
    "logging.basicConfig(level=logging.DEBUG)\n",
    "MAX_ITER_COUNT = 1000\n",
    "\n",
    "with open(\"task.json\", \"r\") as json_file:\n",
    "    task = json.load(json_file)\n",
    "\n",
    "matrix = np.array(task[\"matrix\"])\n",
    "constants = np.array(task[\"constants\"])\n",
    "try:\n",
    "    eps = task[\"epsilon\"]\n",
    "except KeyError:\n",
    "    eps = 10e-5\n",
    "    \n",
    "print(f\"Matrix:\\n{matrix}\")\n",
    "print(f\"Constants: {constants}\")\n",
    "print(f\"Eps: {eps}\")"
   ]
  },
  {
   "cell_type": "markdown",
   "id": "0b98f065",
   "metadata": {},
   "source": [
    "Преобразовать матрицы и константы в эквивалентный вид, при котором сравнительно упрощается\n",
    "подсчет."
   ]
  },
  {
   "cell_type": "code",
   "execution_count": 3,
   "id": "06b119df",
   "metadata": {},
   "outputs": [
    {
     "name": "stdout",
     "output_type": "stream",
     "text": [
      "New matrix:\n",
      "[[ 0.         -0.27586207 -0.31034483  0.31034483]\n",
      " [-0.28        0.         -0.          0.36      ]\n",
      " [-0.0625     -0.375       0.          0.125     ]\n",
      " [ 0.41176471 -0.23529412  0.11764706  0.        ]]\n",
      "New constants: [ 6.79310345  9.04       -5.9375     -3.41176471]\n"
     ]
    }
   ],
   "source": [
    "def calc_equivalent(matrix, contants):\n",
    "    new_matrix = np.zeros_like(matrix)\n",
    "    new_constants = np.zeros_like(constants)\n",
    "\n",
    "    diag = matrix.diagonal()\n",
    "\n",
    "    if not(all(diag != 0)):\n",
    "            raise ValueError(\"Diagonal values can not contain 0\")\n",
    "\n",
    "    new_matrix = - matrix / diag[:, np.newaxis]\n",
    "    for i in range(len(new_matrix)):\n",
    "        new_matrix[i, i] = 0\n",
    "    new_constants = constants / diag\n",
    "    \n",
    "    return (new_matrix, new_constants)\n",
    "\n",
    "new_matr, new_consts = calc_equivalent(matrix, constants)\n",
    "print(f\"Equivalent matrix:\\n{new_matr}\")\n",
    "print(f\"Equivalent constants: {new_consts}\")"
   ]
  },
  {
   "cell_type": "markdown",
   "id": "87009cb4",
   "metadata": {},
   "source": [
    "Функция проверки на окончание итераций для обоих методов. Структурно она не отличается, \n",
    "но меняются коэффиценты делимого и делителя."
   ]
  },
  {
   "cell_type": "code",
   "execution_count": 4,
   "id": "3973d239",
   "metadata": {},
   "outputs": [],
   "source": [
    "def test_exit(prev_res, new_res, coef_divident, coef_divisor, eps):\n",
    "    difference = new_res - prev_res\n",
    "    diff_norm = norm(difference)\n",
    "\n",
    "    if coef_divisor < 1:\n",
    "        return diff_norm * coef_divident / (1 - coef_divisor) <= eps\n",
    "    else:\n",
    "        return diff_norm <= eps"
   ]
  },
  {
   "cell_type": "markdown",
   "id": "61eeb20f",
   "metadata": {},
   "source": [
    "Метод простых итераций для решения системы."
   ]
  },
  {
   "cell_type": "code",
   "execution_count": 8,
   "id": "6ff9747d",
   "metadata": {},
   "outputs": [
    {
     "name": "stderr",
     "output_type": "stream",
     "text": [
      "DEBUG:root:Original values: [ 6.79310345  9.04       -5.9375     -3.41176471]\n",
      "DEBUG:root:Iteration no. 0\n",
      "DEBUG:root:Original values: [  5.08315923   5.90969574 -10.17853955  -3.4401927 ]\n",
      "DEBUG:root:Iteration no. 1\n",
      "DEBUG:root:Original values: [ 7.25405365  6.37824604 -8.90135744 -3.90669103]\n",
      "DEBUG:root:Iteration no. 2\n",
      "DEBUG:root:Original values: [ 6.58365619  5.60245621 -9.271057   -2.97278374]\n",
      "DEBUG:root:Iteration no. 3\n",
      "DEBUG:root:Original values: [ 7.20223482  6.12637412 -8.82149756 -3.10978503]\n",
      "DEBUG:root:Iteration no. 4\n",
      "DEBUG:root:Original values: [ 6.87566965  5.90385164 -9.0737531  -2.92546164]\n",
      "DEBUG:root:Iteration no. 5\n",
      "DEBUG:root:Original values: [ 7.07254517  6.06164631 -8.94685642 -3.03724854]\n",
      "DEBUG:root:Iteration no. 6\n",
      "DEBUG:root:Original values: [ 6.95494139  5.96627788 -9.03230751 -2.97838129]\n",
      "DEBUG:root:Iteration no. 7\n",
      "DEBUG:root:Original values: [ 7.02603838  6.02039915 -8.9818357  -3.01441981]\n",
      "DEBUG:root:Iteration no. 8\n",
      "DEBUG:root:Original values: [ 6.98426034  5.98751812 -9.01107955 -2.99194114]\n",
      "DEBUG:root:Iteration no. 9\n",
      "DEBUG:root:Original values: [ 7.00938279  6.0073083  -8.99332821 -3.0048476 ]\n",
      "DEBUG:root:Iteration no. 10\n",
      "DEBUG:root:Original values: [ 6.99440893  5.99562768 -9.00393298 -2.99707118]\n",
      "DEBUG:root:Iteration no. 11\n",
      "DEBUG:root:Original values: [ 7.00333568  6.00261987 -8.99764484 -3.00173613]\n",
      "DEBUG:root:Iteration no. 12\n",
      "DEBUG:root:Original values: [ 6.99800757  5.998441   -9.00140795 -2.99896585]\n",
      "DEBUG:root:Iteration no. 13\n",
      "DEBUG:root:Original values: [ 7.00118796  6.00093018 -8.99916158 -3.00061923]\n",
      "DEBUG:root:Iteration no. 14\n",
      "DEBUG:root:Original values: [ 6.99929102  5.99944445 -9.00050047 -2.99963107]\n",
      "DEBUG:root:Iteration no. 15\n",
      "DEBUG:root:Original values: [ 7.00042307  6.00033133 -8.99970124 -3.00022009]\n",
      "DEBUG:root:Iteration no. 16\n",
      "DEBUG:root:Original values: [ 6.99974758  5.99980231 -9.0001782  -2.99986861]\n",
      "DEBUG:root:Iteration no. 17\n",
      "DEBUG:root:Original values: [ 7.00015062  6.00011798 -8.99989366 -3.00007839]\n",
      "DEBUG:root:Iteration no. 18\n",
      "DEBUG:root:Original values: [ 6.99991013  5.99992961 -9.00006345 -2.99995323]\n",
      "DEBUG:root:Iteration no. 19\n",
      "DEBUG:root:Original values: [ 7.00005363  6.000042   -8.99996214 -3.00002791]\n",
      "DEBUG:root:Iteration no. 20\n",
      "DEBUG:root:Original values: [ 6.999968    5.99997494 -9.00002259 -2.99998335]\n",
      "DEBUG:root:Iteration no. 21\n",
      "DEBUG:root:Original values: [ 7.00001909  6.00001495 -8.99998652 -3.00000994]\n",
      "DEBUG:root:Iteration no. 22\n",
      "DEBUG:root:Original values: [ 6.99998861  5.99999108 -9.00000804 -2.99999407]\n",
      "DEBUG:root:Iteration no. 23\n",
      "DEBUG:root:Original values: [ 7.0000068   6.00000532 -8.9999952  -3.00000354]\n",
      "DEBUG:root:Iteration no. 24\n",
      "DEBUG:root:Original values: [ 6.99999594  5.99999682 -9.00000286 -2.99999789]\n",
      "DEBUG:root:Iteration no. 25\n",
      "DEBUG:root:Original values: [ 7.00000242  6.0000019  -8.99999829 -3.00000126]\n",
      "DEBUG:root:Iteration no. 26\n",
      "DEBUG:root:Original values: [ 6.99999856  5.99999887 -9.00000102 -2.99999925]\n",
      "DEBUG:root:Exit condition achieved\n"
     ]
    },
    {
     "name": "stdout",
     "output_type": "stream",
     "text": [
      "Iterative solution: [ 6.99999856  5.99999887 -9.00000102 -2.99999925]\n"
     ]
    }
   ],
   "source": [
    "def solve_iter(matrix, constants, eps = 10e-5):\n",
    "    matrix_norm  = norm(matrix)\n",
    "    x_values     = constants.copy()\n",
    "    new_x_values = constants.copy()\n",
    "    \n",
    "    logging.debug(f\"Original values: {x_values}\")\n",
    "    \n",
    "    for iter_no in range(MAX_ITER_COUNT):\n",
    "        logging.debug(f\"Iteration no. {iter_no}\")\n",
    "        \n",
    "        row_sums = np.sum(matrix * x_values, axis=1)\n",
    "        new_x_values = constants + row_sums\n",
    "        \n",
    "        logging.debug(f\"Original values: {new_x_values}\")\n",
    "\n",
    "        if test_exit(x_values, new_x_values, matrix_norm, matrix_norm, eps):\n",
    "            logging.debug(\"Exit condition achieved\")\n",
    "            break\n",
    "        else:\n",
    "            x_values = new_x_values.copy()\n",
    "\n",
    "    return new_x_values\n",
    "\n",
    "res_i = solve_iter(new_matr, new_consts, eps)\n",
    "print(\"Iterative solution:\", res_i)"
   ]
  },
  {
   "cell_type": "code",
   "execution_count": 7,
   "id": "10de9551",
   "metadata": {},
   "outputs": [
    {
     "name": "stderr",
     "output_type": "stream",
     "text": [
      "DEBUG:root:Original values: [ 6.79310345  9.04       -5.9375     -3.41176471]\n",
      "DEBUG:root:Iteration no. 0\n",
      "DEBUG:root:Original values: [ 5.08315923  9.04       -5.9375     -3.41176471]\n",
      "DEBUG:root:Iteration no. 0\n",
      "DEBUG:root:Original values: [ 5.08315923  6.38848012 -5.9375     -3.41176471]\n",
      "DEBUG:root:Iteration no. 0\n",
      "DEBUG:root:Original values: [ 5.08315923  6.38848012 -9.07734809 -3.41176471]\n",
      "DEBUG:root:Iteration no. 0\n",
      "DEBUG:root:Original values: [ 5.08315923  6.38848012 -9.07734809 -3.88979424]\n",
      "DEBUG:root:Iteration no. 1\n",
      "DEBUG:root:Original values: [ 6.64069461  6.38848012 -9.07734809 -3.88979424]\n",
      "DEBUG:root:Iteration no. 1\n",
      "DEBUG:root:Original values: [ 6.64069461  5.78027958 -9.07734809 -3.88979424]\n",
      "DEBUG:root:Iteration no. 1\n",
      "DEBUG:root:Original values: [ 6.64069461  5.78027958 -9.00637254 -3.88979424]\n",
      "DEBUG:root:Iteration no. 1\n",
      "DEBUG:root:Original values: [ 6.64069461  5.78027958 -9.00637254 -3.09700007]\n",
      "DEBUG:root:Iteration no. 2\n",
      "DEBUG:root:Original values: [ 7.03248674  5.78027958 -9.00637254 -3.09700007]\n",
      "DEBUG:root:Iteration no. 2\n",
      "DEBUG:root:Original values: [ 7.03248674  5.95598369 -9.00637254 -3.09700007]\n",
      "DEBUG:root:Iteration no. 2\n",
      "DEBUG:root:Original values: [ 7.03248674  5.95598369 -8.99764931 -3.09700007]\n",
      "DEBUG:root:Iteration no. 2\n",
      "DEBUG:root:Original values: [ 7.03248674  5.95598369 -8.99764931 -2.97598977]\n",
      "DEBUG:root:Iteration no. 3\n",
      "DEBUG:root:Original values: [ 7.01886436  5.95598369 -8.99764931 -2.97598977]\n",
      "DEBUG:root:Iteration no. 3\n",
      "DEBUG:root:Original values: [ 7.01886436  6.00336166 -8.99764931 -2.97598977]\n",
      "DEBUG:root:Iteration no. 3\n",
      "DEBUG:root:Original values: [ 7.01886436  6.00336166 -8.99943837 -2.97598977]\n",
      "DEBUG:root:Iteration no. 3\n",
      "DEBUG:root:Original values: [ 7.01886436  6.00336166 -8.99943837 -2.99295723]\n",
      "DEBUG:root:Iteration no. 4\n",
      "DEBUG:root:Original values: [ 7.00108403  6.00336166 -8.99943837 -2.99295723]\n",
      "DEBUG:root:Iteration no. 4\n",
      "DEBUG:root:Original values: [ 7.00108403  6.00223187 -8.99943837 -2.99295723]\n",
      "DEBUG:root:Iteration no. 4\n",
      "DEBUG:root:Original values: [ 7.00108403  6.00223187 -9.00002436 -2.99295723]\n",
      "DEBUG:root:Iteration no. 4\n",
      "DEBUG:root:Original values: [ 7.00108403  6.00223187 -9.00002436 -3.00008164]\n",
      "DEBUG:root:Iteration no. 5\n",
      "DEBUG:root:Original values: [ 6.99936653  6.00223187 -9.00002436 -3.00008164]\n",
      "DEBUG:root:Iteration no. 5\n",
      "DEBUG:root:Original values: [ 6.99936653  6.00014798 -9.00002436 -3.00008164]\n",
      "DEBUG:root:Iteration no. 5\n",
      "DEBUG:root:Original values: [ 6.99936653  6.00014798 -9.00002611 -3.00008164]\n",
      "DEBUG:root:Iteration no. 5\n",
      "DEBUG:root:Original values: [ 6.99936653  6.00014798 -9.00002611 -3.00029873]\n",
      "DEBUG:root:Iteration no. 6\n",
      "DEBUG:root:Original values: [ 6.99987457  6.00014798 -9.00002611 -3.00029873]\n",
      "DEBUG:root:Iteration no. 6\n",
      "DEBUG:root:Original values: [ 6.99987457  5.99992758 -9.00002611 -3.00029873]\n",
      "DEBUG:root:Iteration no. 6\n",
      "DEBUG:root:Original values: [ 6.99987457  5.99992758 -9.00000234 -3.00029873]\n",
      "DEBUG:root:Iteration no. 6\n",
      "DEBUG:root:Original values: [ 6.99987457  5.99992758 -9.00000234 -3.00003488]\n",
      "DEBUG:root:Iteration no. 7\n",
      "DEBUG:root:Original values: [ 7.00000988  5.99992758 -9.00000234 -3.00003488]\n",
      "DEBUG:root:Iteration no. 7\n",
      "DEBUG:root:Original values: [ 7.00000988  5.99998468 -9.00000234 -3.00003488]\n",
      "DEBUG:root:Iteration no. 7\n",
      "DEBUG:root:Original values: [ 7.00000988  5.99998468 -8.99999923 -3.00003488]\n",
      "DEBUG:root:Iteration no. 7\n",
      "DEBUG:root:Original values: [ 7.00000988  5.99998468 -8.99999923 -2.99999224]\n",
      "DEBUG:root:Iteration no. 8\n",
      "DEBUG:root:Original values: [ 7.0000064   5.99998468 -8.99999923 -2.99999224]\n",
      "DEBUG:root:Iteration no. 8\n",
      "DEBUG:root:Original values: [ 7.0000064   6.000001   -8.99999923 -2.99999224]\n",
      "DEBUG:root:Iteration no. 8\n",
      "DEBUG:root:Original values: [ 7.0000064   6.000001   -8.99999981 -2.99999224]\n",
      "DEBUG:root:Iteration no. 8\n",
      "DEBUG:root:Original values: [ 7.0000064   6.000001   -8.99999981 -2.99999758]\n",
      "DEBUG:root:Iteration no. 9\n",
      "DEBUG:root:Original values: [ 7.00000041  6.000001   -8.99999981 -2.99999758]\n",
      "DEBUG:root:Iteration no. 9\n",
      "DEBUG:root:Original values: [ 7.00000041  6.00000076 -8.99999981 -2.99999758]\n",
      "DEBUG:root:Iteration no. 9\n",
      "DEBUG:root:Original values: [ 7.00000041  6.00000076 -9.00000001 -2.99999758]\n",
      "DEBUG:root:Iteration no. 9\n",
      "DEBUG:root:Original values: [ 7.00000041  6.00000076 -9.00000001 -3.00000001]\n",
      "DEBUG:root:Exit condition achieved\n"
     ]
    },
    {
     "name": "stdout",
     "output_type": "stream",
     "text": [
      "Seidel solution: [ 7.00000041  6.00000076 -9.00000001 -3.00000001]\n"
     ]
    }
   ],
   "source": [
    "def solve_seidel(matrix, constants, eps = 10e-5):\n",
    "    upper        = np.triu(matrix)\n",
    "    upper_norm   = norm(upper)\n",
    "    matrix_norm  = norm(matrix)\n",
    "    x_values     = constants.copy()\n",
    "    new_x_values = constants.copy()\n",
    "\n",
    "    logging.debug(f\"Original values: {x_values}\")\n",
    "    \n",
    "    for iter_no in range(MAX_ITER_COUNT):\n",
    "        for i in range(len(matrix)):\n",
    "            logging.debug(f\"Iteration no. {iter_no}\")\n",
    "\n",
    "            row_sum = sum(matrix[i] * new_x_values)\n",
    "            new_x_values[i] = constants[i] + row_sum\n",
    "\n",
    "            logging.debug(f\"Original values: {new_x_values}\")\n",
    "\n",
    "        if test_exit(x_values, new_x_values, upper_norm, matrix_norm, eps):\n",
    "            logging.debug(\"Exit condition achieved\")\n",
    "            break\n",
    "        else:\n",
    "            x_values = new_x_values.copy()\n",
    "\n",
    "    return new_x_values\n",
    "\n",
    "res_s = solve_seidel(new_matr, new_consts, eps)\n",
    "print(\"Seidel solution:\", res_s)"
   ]
  }
 ],
 "metadata": {
  "kernelspec": {
   "display_name": "Python 3",
   "language": "python",
   "name": "python3"
  },
  "language_info": {
   "codemirror_mode": {
    "name": "ipython",
    "version": 3
   },
   "file_extension": ".py",
   "mimetype": "text/x-python",
   "name": "python",
   "nbconvert_exporter": "python",
   "pygments_lexer": "ipython3",
   "version": "3.9.5"
  }
 },
 "nbformat": 4,
 "nbformat_minor": 5
}
