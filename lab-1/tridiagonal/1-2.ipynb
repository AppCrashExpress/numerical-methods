{
 "cells": [
  {
   "cell_type": "markdown",
   "id": "4addb1bf",
   "metadata": {},
   "source": [
    "# Лабораторная 1\n",
    "## Подраздел: Метод прогонки\n",
    "\n",
    "* Cтудент: Ефимов А.В.\n",
    "* Группа: М8О-307Б\n",
    "* Вариант: 7"
   ]
  },
  {
   "cell_type": "markdown",
   "id": "bc4fd8f4",
   "metadata": {},
   "source": [
    "Загрузка библиотек, матрицы"
   ]
  },
  {
   "cell_type": "code",
   "execution_count": 6,
   "id": "458b18e5",
   "metadata": {},
   "outputs": [
    {
     "name": "stdout",
     "output_type": "stream",
     "text": [
      "Matrix:\n",
      "[[15, 8, 0, 0, 0], [2, -15, 4, 0, 0], [0, 4, 11, 5, 0], [0, 0, -3, 16, -7], [0, 0, 0, 3, 8]]\n",
      "Constants: [92, -84, -77, 15, -11]\n"
     ]
    }
   ],
   "source": [
    "import json\n",
    "\n",
    "with open(\"task.json\", \"r\") as json_file:\n",
    "    task = json.load(json_file)\n",
    "\n",
    "matrix = task[\"matrix\"]\n",
    "constraints = task[\"constraints\"]\n",
    "\n",
    "print(f\"Matrix:\\n{matrix}\")\n",
    "print(f\"Constants: {constraints}\")"
   ]
  },
  {
   "cell_type": "markdown",
   "id": "ddb3fdf3",
   "metadata": {},
   "source": [
    "Решение основывается на том, что матрица состоит из трех диагоналей, поэтому это\n",
    "нужно проверять отдельно"
   ]
  },
  {
   "cell_type": "code",
   "execution_count": 2,
   "id": "e20d64ef",
   "metadata": {},
   "outputs": [
    {
     "name": "stdout",
     "output_type": "stream",
     "text": [
      "True\n"
     ]
    }
   ],
   "source": [
    "def check_tridiagonal(matrix):\n",
    "    matrix_size = len(matrix)\n",
    "    for i in range(matrix_size - 2):\n",
    "        for j in range(i + 2, matrix_size):\n",
    "            if matrix[i][j] != 0 or matrix[j][i] != 0:\n",
    "                return False\n",
    "    return True\n",
    "\n",
    "print(check_tridiagonal(matrix))"
   ]
  },
  {
   "cell_type": "markdown",
   "id": "9d951bc7",
   "metadata": {},
   "source": [
    "Чтобы не хранить всю матрицу эти диагонали можно извлечь"
   ]
  },
  {
   "cell_type": "code",
   "execution_count": 3,
   "id": "3a67c073",
   "metadata": {},
   "outputs": [
    {
     "name": "stdout",
     "output_type": "stream",
     "text": [
      "Upper diagonal: [8, 4, 5, -7]\n",
      "Mid diagonal:   [15, -15, 11, 16, 8]\n",
      "Lower diagonal: [2, 4, -3, 3]\n"
     ]
    }
   ],
   "source": [
    "def get_diagonals(matrix):\n",
    "    if not check_tridiagonal(matrix):\n",
    "        raise ValueError(\"Matrix is not tridiagonal\")\n",
    "\n",
    "    matrix_size = len(matrix)\n",
    "    \n",
    "    upper = [0] * (matrix_size - 1)\n",
    "    for i in range(matrix_size - 1):\n",
    "        upper[i] = matrix[i][i + 1]\n",
    "\n",
    "    mid = [0] * matrix_size\n",
    "    for i in range(matrix_size):\n",
    "        mid[i] = matrix[i][i]\n",
    "\n",
    "    lower = [0] * (matrix_size - 1)\n",
    "    for i in range(matrix_size - 1):\n",
    "        lower[i] = matrix[i + 1][i]\n",
    "\n",
    "    return (upper, mid, lower)\n",
    "\n",
    "upper, mid, lower = get_diagonals(matrix)\n",
    "print(\"Upper diagonal:\", upper)\n",
    "print(\"Mid diagonal:  \", mid)\n",
    "print(\"Lower diagonal:\", lower)"
   ]
  },
  {
   "cell_type": "markdown",
   "id": "890c1c6b",
   "metadata": {},
   "source": [
    "$P_i = \\frac{c_i}{b_i + a_iP_{i-1}}$, $Q_i = \\frac{d_i - a_iQ_{i-1}}{b_i + a_iP_{i-1}}$, где $a, b, c$ - нижняя, средняя и верхняя диагонали соответственно, $d$ - массив констант. Эти коэффиценты понадобятся при подсчете."
   ]
  },
  {
   "cell_type": "code",
   "execution_count": 4,
   "id": "d9ebe3b3",
   "metadata": {},
   "outputs": [
    {
     "name": "stdout",
     "output_type": "stream",
     "text": [
      "P coefficients: [-0.5333333333333333, 0.24896265560165975, -0.41681079211345556, 0.4057869302801227, 0]\n",
      "Q coefficients: [6.133333333333334, 5.991701244813278, -8.416810792113456, -0.5942130697198773, -1.0]\n"
     ]
    }
   ],
   "source": [
    "def calc_p_coeffs(upper_diag, mid_diag, lower_diag, constraints):\n",
    "    coef_count = len(constraints)\n",
    "    coeffs = [0] * coef_count\n",
    "\n",
    "    coeffs[0] = - upper_diag[0] / mid_diag[0]\n",
    "\n",
    "    for i in range(1, coef_count - 1):\n",
    "        coeffs[i] = - upper_diag[i] / (mid_diag[i] + lower_diag[i] * coeffs[i - 1])\n",
    "\n",
    "    return coeffs\n",
    "\n",
    "def calc_coeffs(upper_diag, mid_diag, lower_diag, constraints):\n",
    "    lower_diag = [0] + lower_diag[:]\n",
    "\n",
    "    coef_count = len(constraints)\n",
    "    p_coeffs = calc_p_coeffs(upper_diag, mid_diag, lower_diag, constraints)\n",
    "    q_coeffs = [0] * coef_count\n",
    "\n",
    "    q_coeffs[0] = constraints[0] / mid_diag[0]\n",
    "\n",
    "    for i in range(1, coef_count):\n",
    "        dividend = constraints[i] - lower_diag[i] * q_coeffs[i - 1]\n",
    "        divisor  = mid_diag[i] + lower_diag[i] * p_coeffs[i - 1]\n",
    "        q_coeffs[i] = dividend / divisor\n",
    "\n",
    "    return (p_coeffs, q_coeffs)\n",
    "\n",
    "p_coeffs, q_coeffs = calc_coeffs(upper, mid, lower, constraints)\n",
    "print(\"P coefficients:\", p_coeffs)\n",
    "print(\"Q coefficients:\", q_coeffs)"
   ]
  },
  {
   "cell_type": "markdown",
   "id": "a9e9f20b",
   "metadata": {},
   "source": [
    "$x_i = P_ix_{i+1} + Q_i$, причем последний элемент равен последнему $Q$ коэффициенту."
   ]
  },
  {
   "cell_type": "code",
   "execution_count": 5,
   "id": "01234651",
   "metadata": {},
   "outputs": [
    {
     "name": "stdout",
     "output_type": "stream",
     "text": [
      "Solution: [4.0, 4.0, -8.0, -1.0, -1.0]\n"
     ]
    }
   ],
   "source": [
    "def solve_tridiagonal(upper_diag, mid_diag, lower_diag, constraints):\n",
    "    var_count = len(constraints)\n",
    "    result = [0] * var_count\n",
    "\n",
    "    p_coeffs, q_coeffs = calc_coeffs(upper_diag, mid_diag, lower_diag, constraints)\n",
    "\n",
    "    result[var_count - 1] = q_coeffs[var_count - 1]\n",
    "\n",
    "    for i in reversed(range(var_count - 1)):\n",
    "        result[i] = p_coeffs[i] * result[i + 1] + q_coeffs[i]\n",
    "\n",
    "    return result\n",
    "\n",
    "solution = solve_tridiagonal(upper, mid, lower, constraints)\n",
    "print(\"Solution:\", solution)"
   ]
  }
 ],
 "metadata": {
  "kernelspec": {
   "display_name": "Python 3",
   "language": "python",
   "name": "python3"
  },
  "language_info": {
   "codemirror_mode": {
    "name": "ipython",
    "version": 3
   },
   "file_extension": ".py",
   "mimetype": "text/x-python",
   "name": "python",
   "nbconvert_exporter": "python",
   "pygments_lexer": "ipython3",
   "version": "3.9.5"
  }
 },
 "nbformat": 4,
 "nbformat_minor": 5
}
