{
 "cells": [
  {
   "cell_type": "markdown",
   "id": "c116195f",
   "metadata": {},
   "source": [
    "# Лабораторная 2\n",
    "## Подраздел: Решение системы нелинейных уравнений\n",
    "\n",
    "* Cтудент: Ефимов А.В.\n",
    "* Группа: М8О-307Б\n",
    "* Вариант: 7"
   ]
  },
  {
   "cell_type": "markdown",
   "id": "5d789d1c",
   "metadata": {},
   "source": [
    "## Задание"
   ]
  },
  {
   "cell_type": "markdown",
   "id": "0f2d1dd3",
   "metadata": {},
   "source": [
    "Реализовать методы простой итерации и Ньютона решения систем нелинейных уравнений\n",
    "в виде программного кода, задавая в качестве входных данных точность вычислений.\n",
    "С использованием разработанного программного обеспечения решить систему нелинейных уравнений\n",
    "(при наличии нескольких решений найти то из них, в котором значения неизвестных являются \n",
    "положительными); начальное приближение определить графически.\n",
    "Проанализировать зависимость погрешности вычислений от количества итераций.  "
   ]
  },
  {
   "cell_type": "markdown",
   "id": "237a8b83",
   "metadata": {},
   "source": [
    "## Решение"
   ]
  },
  {
   "cell_type": "markdown",
   "id": "86c6b71f",
   "metadata": {},
   "source": [
    "Загрузка библиотек, настройка лог сообщений и задание функций:"
   ]
  },
  {
   "cell_type": "code",
   "execution_count": 1,
   "id": "6d3a5eaf",
   "metadata": {},
   "outputs": [],
   "source": [
    "import logging, argparse\n",
    "import numpy as np\n",
    "from math import sqrt, exp, log\n",
    "from numpy.linalg import solve\n",
    "\n",
    "# Configurations\n",
    "np.set_printoptions(suppress=True)\n",
    "logging.basicConfig(level=logging.DEBUG)\n",
    "\n",
    "MAX_ITER = 1000\n",
    "\n",
    "f = [\n",
    "    lambda x : x[0] ** 2 + x[1] ** 2 - 4,\n",
    "    lambda x : x[0] - exp(x[1]) + 2\n",
    "]\n",
    "\n",
    "df = [\n",
    "    {\n",
    "        \"x0\": lambda x : 2 * x[0],\n",
    "        \"x1\": lambda x : 2 * x[1]\n",
    "    },\n",
    "    {\n",
    "        \"x0\": lambda x : 1,\n",
    "        \"x1\": lambda x : -exp(x[1])\n",
    "    }\n",
    "]\n",
    "\n",
    "phi = [\n",
    "    lambda x : sqrt(4 - x[1]**2),\n",
    "    lambda x : log(x[0] + 2)\n",
    "]\n",
    "\n",
    "dphi = [\n",
    "    {\n",
    "        \"x0\": lambda x : 0,\n",
    "        \"x1\": lambda x : - x[1] / sqrt(4 - x[1] ** 2)\n",
    "    },\n",
    "    {\n",
    "        \"x0\": lambda x : 1 / (x[0] + 2),\n",
    "        \"x1\": lambda x : 0\n",
    "    }\n",
    "]"
   ]
  },
  {
   "cell_type": "markdown",
   "id": "093d1144",
   "metadata": {},
   "source": [
    "Вычисление нормали разницы двух векторов (в частности, векторов новых и старых значений):"
   ]
  },
  {
   "cell_type": "code",
   "execution_count": 2,
   "id": "99b9fca9",
   "metadata": {},
   "outputs": [],
   "source": [
    "def norm(x, x_prev):\n",
    "    return sqrt(sum([(xn - xp) ** 2 for xn, xp in zip(x, x_prev)]))"
   ]
  },
  {
   "cell_type": "markdown",
   "id": "61bed279",
   "metadata": {},
   "source": [
    "### Итеративный метод"
   ]
  },
  {
   "cell_type": "code",
   "execution_count": 3,
   "id": "6d45aac1",
   "metadata": {},
   "outputs": [],
   "source": [
    "def iteration_method(a, b, eps):\n",
    "    def get_phi_norm(x):\n",
    "        return max(abs(dphi[0][\"x0\"](x)) + abs(dphi[0][\"x1\"](x)),\n",
    "                   abs(dphi[1][\"x0\"](x)) + abs(dphi[1][\"x1\"](x)))\n",
    "\n",
    "    x0_interv = [a[0], b[0]]\n",
    "    x1_interv = [a[1], b[1]]\n",
    "\n",
    "    x_prev = [\n",
    "            (x0_interv[1] + x0_interv[0]) / 2,\n",
    "            (x1_interv[1] + x1_interv[0]) / 2\n",
    "    ]\n",
    "\n",
    "    q = get_phi_norm(x_prev)\n",
    "\n",
    "    if (q >= 1):\n",
    "        logging.warning(f\"q >= 1 (equals {q}), cannot estimate root\")\n",
    "        return None\n",
    "\n",
    "    logging.info(f\"Inital x0 = {x_prev[0]}, x1 = {x_prev[1]}, q = {q}\")\n",
    "    \n",
    "    iter_no = 0\n",
    "    while iter_no <= MAX_ITER:\n",
    "        iter_no += 1\n",
    "\n",
    "        x = [func(x_prev) for func in phi]\n",
    "\n",
    "        logging.info(f\"Iteration {iter_no}: x0 = {x[0]}, x1 = {x[1]}\")\n",
    "\n",
    "        error = q / (1 - q) * norm(x, x_prev)\n",
    "        if (error <= eps):\n",
    "            break\n",
    "\n",
    "        logging.info(f\"{error} > {eps} , continue...\")\n",
    "        x_prev = x\n",
    "\n",
    "    logging.info(f\"Method ended on iteration {iter_no} with x0 value of {x[0]}, x1 value of {x[1]}\")\n",
    "    return x"
   ]
  },
  {
   "cell_type": "markdown",
   "id": "3091e1c7",
   "metadata": {},
   "source": [
    "### Метод Ньютона"
   ]
  },
  {
   "cell_type": "code",
   "execution_count": 4,
   "id": "5fdec293",
   "metadata": {},
   "outputs": [],
   "source": [
    "def newton_method(a, b, eps):\n",
    "\n",
    "    def jacobi_matrix(x):\n",
    "        return [\n",
    "            [df[0][\"x0\"](x), df[0][\"x1\"](x)],\n",
    "            [df[1][\"x0\"](x), df[1][\"x1\"](x)]\n",
    "        ]\n",
    "\n",
    "    x0_interv = [a[0], b[0]]\n",
    "    x1_interv = [a[1], b[1]]\n",
    "\n",
    "    x_prev = [\n",
    "            (x0_interv[1] + x0_interv[0]) / 2,\n",
    "            (x1_interv[1] + x1_interv[0]) / 2\n",
    "    ]\n",
    "\n",
    "    logging.info(f\"Inital x0 = {x_prev[0]}, x1 = {x_prev[1]}\")\n",
    "\n",
    "    iter_no = 0\n",
    "    while iter_no <= MAX_ITER:\n",
    "        iter_no += 1\n",
    "\n",
    "        jacobi = np.array(jacobi_matrix(x_prev))\n",
    "        b = np.array([-f[0](x_prev), -f[1](x_prev)])\n",
    "        delta_x = solve(jacobi, b).tolist()\n",
    "\n",
    "        x = [px + dx for px, dx in zip(x_prev, delta_x)]\n",
    "\n",
    "        logging.info(f\"Iteration {iter_no}: x0 = {x[0]}, x1 = {x[1]}\")\n",
    "\n",
    "        error = norm(x, x_prev)\n",
    "        if (error <= eps):\n",
    "            break\n",
    "\n",
    "        logging.info(f\"{error} > {eps} , continue...\")\n",
    "        x_prev = x\n",
    "\n",
    "    logging.info(f\"Method ended on iteration {iter_no} with x0 value of {x[0]}, x1 value of {x[1]}\")\n",
    "    return x"
   ]
  },
  {
   "cell_type": "markdown",
   "id": "3549226a",
   "metadata": {},
   "source": [
    "### Вывод"
   ]
  },
  {
   "cell_type": "code",
   "execution_count": 5,
   "id": "02159f67",
   "metadata": {},
   "outputs": [
    {
     "name": "stderr",
     "output_type": "stream",
     "text": [
      "INFO:root:Inital x0 = 0.35, x1 = 0.35, q = 0.425531914893617\n",
      "INFO:root:Iteration 1: x0 = 1.9691368667515217, x1 = 0.8544153281560676\n",
      "INFO:root:1.2562139684224416 > 1e-05 , continue...\n",
      "INFO:root:Iteration 2: x0 = 1.8083070665713716, x1 = 1.378548657144774\n",
      "INFO:root:0.40611375161376345 > 1e-05 , continue...\n",
      "INFO:root:Iteration 3: x0 = 1.4490008971302746, x1 = 1.3371847509079893\n",
      "INFO:root:0.26791057220324754 > 1e-05 , continue...\n",
      "INFO:root:Iteration 4: x0 = 1.487258196124378, x1 = 1.238084594067826\n",
      "INFO:root:0.07868766551034106 > 1e-05 , continue...\n",
      "INFO:root:Iteration 5: x0 = 1.5707152949952154, x1 = 1.2491158102991176\n",
      "INFO:root:0.06235776719447639 > 1e-05 , continue...\n",
      "INFO:root:Iteration 6: x0 = 1.5619570072382847, x1 = 1.2727659384653718\n",
      "INFO:root:0.018681301827688675 > 1e-05 , continue...\n",
      "INFO:root:Iteration 7: x0 = 1.5427465332589023, x1 = 1.270310114956977\n",
      "INFO:root:0.014345786142164314 > 1e-05 , continue...\n",
      "INFO:root:Iteration 8: x0 = 1.5447693069963526, x1 = 1.2649022831771384\n",
      "INFO:root:0.0042768562837501465 > 1e-05 , continue...\n",
      "INFO:root:Iteration 9: x0 = 1.5492005080083284, x1 = 1.2654730822661173\n",
      "INFO:root:0.0033094911944682903 > 1e-05 , continue...\n",
      "INFO:root:Iteration 10: x0 = 1.5487342825868784, x1 = 1.2667223691122285\n",
      "INFO:root:0.0009877393144680042 > 1e-05 , continue...\n",
      "INFO:root:Iteration 11: x0 = 1.5477126476160563, x1 = 1.266590999795413\n",
      "INFO:root:0.0007629974501400861 > 1e-05 , continue...\n",
      "INFO:root:Iteration 12: x0 = 1.5478201572654544, x1 = 1.2663030712058163\n",
      "INFO:root:0.00022766326229563694 > 1e-05 , continue...\n",
      "INFO:root:Iteration 13: x0 = 1.5480557263402108, x1 = 1.2663333746805132\n",
      "INFO:root:0.00017593347283664226 > 1e-05 , continue...\n",
      "INFO:root:Iteration 14: x0 = 1.5480309377303358, x1 = 1.2663997707332928\n",
      "INFO:root:5.249814683119349e-05 > 1e-05 , continue...\n",
      "INFO:root:Iteration 15: x0 = 1.5479766214922832, x1 = 1.266392784175476\n",
      "INFO:root:4.0565723104402374e-05 > 1e-05 , continue...\n",
      "INFO:root:Iteration 16: x0 = 1.547982337169351, x1 = 1.266377475218263\n",
      "INFO:root:1.2104554467000736e-05 > 1e-05 , continue...\n",
      "INFO:root:Iteration 17: x0 = 1.547994861186502, x1 = 1.2663790861850406\n",
      "INFO:root:Method ended on iteration 17 with x0 value of 1.547994861186502, x1 value of 1.2663790861850406\n",
      "INFO:root:Inital x0 = 0.35, x1 = 0.35\n",
      "INFO:root:Iteration 1: x0 = 3.111953187708161, x1 = 2.9523325265775524\n",
      "INFO:root:3.7948017062785744 > 1e-05 , continue...\n",
      "INFO:root:Iteration 2: x0 = 1.5700589260307076, x1 = 2.138753022701087\n",
      "INFO:root:1.7433730304561141 > 1e-05 , continue...\n",
      "INFO:root:Iteration 3: x0 = 1.416166483606022, x1 = 1.5411830624402083\n",
      "INFO:root:0.6170678578905431 > 1e-05 , continue...\n",
      "INFO:root:Iteration 4: x0 = 1.544119217227804, x1 = 1.300076893732774\n",
      "INFO:root:0.27295436730351924 > 1e-05 , continue...\n",
      "INFO:root:Iteration 5: x0 = 1.5479099899431392, x1 = 1.266920817718562\n",
      "INFO:root:0.03337207417047275 > 1e-05 , continue...\n",
      "INFO:root:Iteration 6: x0 = 1.5479914249676825, x1 = 1.2663817929068368\n",
      "INFO:root:0.0005451416429495513 > 1e-05 , continue...\n",
      "INFO:root:Iteration 7: x0 = 1.5479914435766509, x1 = 1.2663816528256782\n",
      "INFO:root:Method ended on iteration 7 with x0 value of 1.5479914435766509, x1 value of 1.2663816528256782\n"
     ]
    },
    {
     "name": "stdout",
     "output_type": "stream",
     "text": [
      "Iteration method: [1.547994861186502, 1.2663790861850406]\n",
      "Newton method: [1.5479914435766509, 1.2663816528256782]\n"
     ]
    }
   ],
   "source": [
    "eps = 1e-5\n",
    "\n",
    "a = [0, 0]\n",
    "b = [0.7, 0.7]\n",
    "\n",
    "print(\"Iteration method:\", iteration_method(a, b, eps))\n",
    "print(\"Newton method:\", newton_method(a, b, eps))"
   ]
  }
 ],
 "metadata": {
  "kernelspec": {
   "display_name": "Python 3",
   "language": "python",
   "name": "python3"
  },
  "language_info": {
   "codemirror_mode": {
    "name": "ipython",
    "version": 3
   },
   "file_extension": ".py",
   "mimetype": "text/x-python",
   "name": "python",
   "nbconvert_exporter": "python",
   "pygments_lexer": "ipython3",
   "version": "3.9.5"
  }
 },
 "nbformat": 4,
 "nbformat_minor": 5
}
