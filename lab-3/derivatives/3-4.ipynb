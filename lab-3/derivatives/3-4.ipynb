{
 "cells": [
  {
   "cell_type": "markdown",
   "id": "817d6a0b",
   "metadata": {},
   "source": [
    "# Лабораторная 3\n",
    "## Подраздел: Численные производные\n",
    "\n",
    "* Cтудент: Ефимов А.В.\n",
    "* Группа: М8О-307Б\n",
    "* Вариант: 7"
   ]
  },
  {
   "cell_type": "markdown",
   "id": "d20f98a5",
   "metadata": {},
   "source": [
    "## Задание"
   ]
  },
  {
   "cell_type": "markdown",
   "id": "ddb0fdca",
   "metadata": {},
   "source": [
    "Вычислить первую и вторую производную \n",
    "от таблично заданной функции $y_i = f(x_i), i=0,1,2,3,4$\n",
    "в точке $x = X^*$."
   ]
  },
  {
   "cell_type": "markdown",
   "id": "6e0e8805",
   "metadata": {},
   "source": [
    "## Решение"
   ]
  },
  {
   "cell_type": "markdown",
   "id": "6f12d987",
   "metadata": {},
   "source": [
    "Загрузка библиотек, задание начальных функций:"
   ]
  },
  {
   "cell_type": "code",
   "execution_count": 1,
   "id": "ce20e042",
   "metadata": {},
   "outputs": [],
   "source": [
    "import numpy as np\n",
    "\n",
    "def f(x):\n",
    "    return np.arccos(x)\n",
    "\n",
    "def df(x):\n",
    "    return -1 / np.sqrt(1 - x*x)\n",
    "\n",
    "def ddf(x):\n",
    "    return -x / np.power((1 - x*x), 3/2)\n"
   ]
  },
  {
   "cell_type": "markdown",
   "id": "78c7ac87",
   "metadata": {},
   "source": [
    "Высчитывание первой производной для многочленов первой и второй степени:"
   ]
  },
  {
   "cell_type": "code",
   "execution_count": 2,
   "id": "a69953af",
   "metadata": {},
   "outputs": [],
   "source": [
    "def find_interval(x, xs):\n",
    "    for i in range(len(xs) - 1):\n",
    "        if x >= xs[i] and x <= xs[i+1]:\n",
    "            return i\n",
    "    return None\n",
    "\n",
    "def df_num1(x, xs, ys, i = None):\n",
    "    # For polynomial of first degree\n",
    "    if i is None:\n",
    "        i = find_interval(x, xs)\n",
    "    if i is None:\n",
    "        return None\n",
    "\n",
    "    return (ys[i+1] - ys[i]) / (xs[i+1] - xs[i])\n",
    "\n",
    "def df_num2(x, xs, ys):\n",
    "    # For polynomial of second degree\n",
    "    i1 = find_interval(x, xs)\n",
    "    if i1 is None:\n",
    "        return None\n",
    "    i2 = i1 + 1\n",
    "\n",
    "    l = df_num1(x, xs, ys, i1)\n",
    "    r = df_num1(x, xs, ys, i2)\n",
    "\n",
    "    return l + (r - l) / (xs[i2+1] - xs[i1]) * (2 * x - xs[i1] - xs[i1+1])"
   ]
  },
  {
   "cell_type": "markdown",
   "id": "82a05891",
   "metadata": {},
   "source": [
    "Высчитывание второй производной для многочлена второй степени:"
   ]
  },
  {
   "cell_type": "code",
   "execution_count": 3,
   "id": "af2e8133",
   "metadata": {},
   "outputs": [],
   "source": [
    "def ddf_num(x, xs, ys):\n",
    "    i1 = find_interval(x, xs)\n",
    "    if i1 is None:\n",
    "        return None\n",
    "    i2 = i1 + 1\n",
    "\n",
    "    l = df_num1(x, xs, ys, i1)\n",
    "    r = df_num1(x, xs, ys, i2)\n",
    "    \n",
    "    return (r - l) / (xs[i2+1] - xs[i1]) * 2"
   ]
  },
  {
   "cell_type": "markdown",
   "id": "941ce945",
   "metadata": {},
   "source": [
    "Оценка погрешности:"
   ]
  },
  {
   "cell_type": "code",
   "execution_count": 4,
   "id": "4bc815dc",
   "metadata": {},
   "outputs": [
    {
     "name": "stdout",
     "output_type": "stream",
     "text": [
      "First derivative is -1.0206207261596576, approximately -1.02879211516872\n",
      "Second derivative is -0.21262931794992868, approximately -0.22002511217066867\n"
     ]
    }
   ],
   "source": [
    "x = 0.2\n",
    "xs = [0.2 * (i - 1) for i in range(5)]\n",
    "ys = [f(x_i) for x_i in xs]\n",
    "\n",
    "print(f\"First derivative is {df(x)}, \"\n",
    "      f\"approximately {df_num2(x, xs, ys)}\")\n",
    "print(f\"Second derivative is {ddf(x)}, \"\n",
    "      f\"approximately {ddf_num(x, xs, ys)}\")"
   ]
  },
  {
   "cell_type": "code",
   "execution_count": null,
   "id": "1e482833",
   "metadata": {},
   "outputs": [],
   "source": []
  }
 ],
 "metadata": {
  "kernelspec": {
   "display_name": "Python 3",
   "language": "python",
   "name": "python3"
  },
  "language_info": {
   "codemirror_mode": {
    "name": "ipython",
    "version": 3
   },
   "file_extension": ".py",
   "mimetype": "text/x-python",
   "name": "python",
   "nbconvert_exporter": "python",
   "pygments_lexer": "ipython3",
   "version": "3.9.5"
  }
 },
 "nbformat": 4,
 "nbformat_minor": 5
}
