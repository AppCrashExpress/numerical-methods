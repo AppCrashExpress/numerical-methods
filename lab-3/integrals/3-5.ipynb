{
 "cells": [
  {
   "cell_type": "markdown",
   "id": "d4be1892",
   "metadata": {},
   "source": [
    "# Лабораторная 3\n",
    "## Подраздел: Численный интеграл\n",
    "\n",
    "* Cтудент: Ефимов А.В.\n",
    "* Группа: М8О-307Б\n",
    "* Вариант: 7"
   ]
  },
  {
   "cell_type": "markdown",
   "id": "2253fedc",
   "metadata": {},
   "source": [
    "## Задание"
   ]
  },
  {
   "cell_type": "markdown",
   "id": "fd7ec9f6",
   "metadata": {},
   "source": [
    "Вычислить определенный интеграл $F = \\int_{x_0}^{x_1}ydx$\n",
    "методами прямоугольников, трапеций, Симпсона с шагами $h_1, h_2$.\n",
    "Оценить погрешность вычислений, используя Метод Рунге-Ромберга."
   ]
  },
  {
   "cell_type": "markdown",
   "id": "5d911068",
   "metadata": {},
   "source": [
    "## Решение"
   ]
  },
  {
   "cell_type": "markdown",
   "id": "b5c617bf",
   "metadata": {},
   "source": [
    "Загрузка библиотек, начальной функции:"
   ]
  },
  {
   "cell_type": "code",
   "execution_count": 1,
   "id": "d4496c39",
   "metadata": {},
   "outputs": [],
   "source": [
    "import numpy as np\n",
    "\n",
    "def f(x):\n",
    "    return 1 / ( (3 * x + 4) * x + 2 )"
   ]
  },
  {
   "cell_type": "markdown",
   "id": "ff0c6e8c",
   "metadata": {},
   "source": [
    "Все три метода:"
   ]
  },
  {
   "cell_type": "code",
   "execution_count": 2,
   "id": "0ff4e704",
   "metadata": {},
   "outputs": [],
   "source": [
    "def solve_rectangle(f, x, h):\n",
    "    return h * ( sum([f( (x[i] + x[i+1]) / 2 ) for i in range(len(x) - 1)]) )\n",
    "\n",
    "def solve_trapezoid(y, h):\n",
    "    return h * ( y[0]/2 + sum(y[1:-1]) + y[-1]/2 )\n",
    "\n",
    "def solve_simpson(y, h):\n",
    "    four_subseq = [4 * y_i for y_i in y[1:-1:2]]\n",
    "    two_subseq  = [2 * y_i for y_i in y[2:-2:2]]\n",
    "\n",
    "    return h/3 * ( y[0] + sum(four_subseq) + sum(two_subseq) + y[-1] )"
   ]
  },
  {
   "cell_type": "markdown",
   "id": "60aead0c",
   "metadata": {},
   "source": [
    "Оценка Рунге-Ромберга:"
   ]
  },
  {
   "cell_type": "code",
   "execution_count": 3,
   "id": "ccae90ff",
   "metadata": {},
   "outputs": [],
   "source": [
    "def test_rrr(rect, trape, simps):\n",
    "    return {\n",
    "            \"rectangle\": (rect[0] - rect[1]) / (2 ** 2 - 1),\n",
    "            \"trapezoid\": (trape[0] - trape[1]) / (2 ** 2 - 1),\n",
    "            \"simpson\":   (simps[0] - simps[1]) / (2 ** 4 - 1)\n",
    "    }"
   ]
  },
  {
   "cell_type": "markdown",
   "id": "94d5e02a",
   "metadata": {},
   "source": [
    "Результат работы методов:"
   ]
  },
  {
   "cell_type": "code",
   "execution_count": 4,
   "id": "0d4d658f",
   "metadata": {},
   "outputs": [
    {
     "name": "stdout",
     "output_type": "stream",
     "text": [
      "For step 0.5:\n",
      "Points\n",
      "0: -1.000 1.0\n",
      "1: -0.500 1.3333333333333333\n",
      "2: 0.000 0.5\n",
      "3: 0.500 0.21052631578947367\n",
      "4: 1.000 0.1111111111111111\n",
      "Rectangular method: 1.3799544590899009\n",
      "Trapezoid   method: 1.2997076023391811\n",
      "Simpson     method: 1.381091617933723\n",
      "\n",
      "For step 0.25:\n",
      "Points\n",
      "0: -1.000 1.0\n",
      "1: -0.750 1.4545454545454546\n",
      "2: -0.500 1.3333333333333333\n",
      "3: -0.250 0.8421052631578947\n",
      "4: 0.000 0.5\n",
      "5: 0.250 0.3137254901960784\n",
      "6: 0.500 0.21052631578947367\n",
      "7: 0.750 0.14953271028037382\n",
      "8: 1.000 0.1111111111111111\n",
      "Rectangular method: 1.3566669081115317\n",
      "Trapezoid   method: 1.339831030714541\n",
      "Simpson     method: 1.353205506839661\n",
      "\n",
      "Rectangular error: 0.007762516992789736\n",
      "Trapezoid   error: -0.01337447612511992\n",
      "Simpson     error: 0.0018590740729374684\n"
     ]
    }
   ],
   "source": [
    "def print_pairwise(xs, ys):\n",
    "    for i, (x, y) in enumerate(zip(xs, ys)):\n",
    "        print(f\"{i}: {x:.3f} {y}\")\n",
    "\n",
    "h = [0.5, 0.25]\n",
    "x0, xn = -1, 1\n",
    "\n",
    "rect  = []\n",
    "trape = []\n",
    "simps = []\n",
    "\n",
    "for h_i in h:\n",
    "    print(f\"For step {h_i}:\")\n",
    "\n",
    "    x = list(np.arange(x0, xn + h_i, h_i))\n",
    "    y = [f(xi) for xi in x]\n",
    "    print(\"Points\")\n",
    "    print_pairwise(x, y)\n",
    "\n",
    "    rect.append(solve_rectangle(f, x, h_i))\n",
    "    trape.append(solve_trapezoid(y, h_i))\n",
    "    simps.append(solve_simpson(y, h_i))\n",
    "\n",
    "    print(f\"Rectangular method: {rect[-1]}\")\n",
    "    print(f\"Trapezoid   method: {trape[-1]}\")\n",
    "    print(f\"Simpson     method: {simps[-1]}\")\n",
    "    print()\n",
    "\n",
    "error = test_rrr(rect, trape, simps)\n",
    "\n",
    "print(f\"Rectangular error: {error['rectangle']}\")\n",
    "print(f\"Trapezoid   error: {error['trapezoid']}\")\n",
    "print(f\"Simpson     error: {error['simpson']}\")"
   ]
  }
 ],
 "metadata": {
  "kernelspec": {
   "display_name": "Python 3",
   "language": "python",
   "name": "python3"
  },
  "language_info": {
   "codemirror_mode": {
    "name": "ipython",
    "version": 3
   },
   "file_extension": ".py",
   "mimetype": "text/x-python",
   "name": "python",
   "nbconvert_exporter": "python",
   "pygments_lexer": "ipython3",
   "version": "3.9.5"
  }
 },
 "nbformat": 4,
 "nbformat_minor": 5
}
