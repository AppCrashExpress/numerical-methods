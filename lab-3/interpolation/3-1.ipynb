{
 "cells": [
  {
   "cell_type": "markdown",
   "id": "d4784969",
   "metadata": {},
   "source": [
    "# Лабораторная 3\n",
    "## Подраздел: Интерполяционные многочлены Лагранжа и Ньютона\n",
    "\n",
    "* Cтудент: Ефимов А.В.\n",
    "* Группа: М8О-307Б\n",
    "* Вариант: 7"
   ]
  },
  {
   "cell_type": "markdown",
   "id": "f232477c",
   "metadata": {},
   "source": [
    "## Задание"
   ]
  },
  {
   "cell_type": "markdown",
   "id": "7d5a408e",
   "metadata": {},
   "source": [
    "Используя таблицузначений $Y_i$ функции $y=f(x)$,\n",
    "вычисленных в точках $X_i, i = 0, ..., 3$\n",
    "построить интерполяционные многочлены Лагранжа и Ньютона,\n",
    "проходящие через точки $\\left\\{ X_i, Y_i \\right\\}$.\n",
    "Вычислить значение погрешности интерполяции в точке $X^*$. "
   ]
  },
  {
   "cell_type": "markdown",
   "id": "471e8bc5",
   "metadata": {},
   "source": [
    "## Решение"
   ]
  },
  {
   "cell_type": "markdown",
   "id": "26b68be8",
   "metadata": {},
   "source": [
    "Загрузка библиотек:"
   ]
  },
  {
   "cell_type": "code",
   "execution_count": 1,
   "id": "8eb9bdff",
   "metadata": {},
   "outputs": [],
   "source": [
    "import logging\n",
    "import numpy as np\n",
    "import matplotlib.pyplot as plt"
   ]
  },
  {
   "cell_type": "markdown",
   "id": "3a596e52",
   "metadata": {},
   "source": [
    "Интерполяция Лагранжа"
   ]
  },
  {
   "cell_type": "code",
   "execution_count": 2,
   "id": "e19f0992",
   "metadata": {},
   "outputs": [],
   "source": [
    "def lagrange_interpolate(x, pivots):\n",
    "    pivots.sort()\n",
    "\n",
    "    logging.info(\"Lagrange interpolation\")\n",
    "    logging.info(f\"Pivot points: {pivots}\")\n",
    "\n",
    "    for xn, xp in zip(pivots[1:], pivots[:-1]):\n",
    "        if xn == xp:\n",
    "            logging.warning(\"Found two matching points on x-axis, cannot continue\")\n",
    "            return None\n",
    "\n",
    "    y = 0\n",
    "    for i in range(len(pivots)):\n",
    "        xi, poly = pivots[i]\n",
    "\n",
    "        for j in range(len(pivots)):\n",
    "            if i == j:\n",
    "                continue\n",
    "            xj, _ = pivots[j]\n",
    "            poly *= (x - xj) / (xi - xj)\n",
    "\n",
    "        logging.debug(f\"Weight of point {i}: {poly}\")\n",
    "        \n",
    "        y += poly\n",
    "        logging.info(f\"y value after point {i}: {y}\")\n",
    "\n",
    "    return y"
   ]
  },
  {
   "cell_type": "markdown",
   "id": "4c8a9573",
   "metadata": {},
   "source": [
    "Интреполяция Ньютона"
   ]
  },
  {
   "cell_type": "code",
   "execution_count": 3,
   "id": "25738325",
   "metadata": {},
   "outputs": [],
   "source": [
    "def newton_interpolate(x, pivots):\n",
    "    def build_diffs(xs, diffs, i, j):\n",
    "        if i == j:\n",
    "            return diffs[i][j]\n",
    "\n",
    "        if diffs[i][j - 1] is None:\n",
    "            build_diffs(xs, diffs, i, j - 1)\n",
    "        if diffs[i + 1][j] is None:\n",
    "            build_diffs(xs, diffs, i + 1, j)\n",
    "\n",
    "        diffs[i][j] = (diffs[i + 1][j] - diffs[i][j - 1]) / (xs[j] - xs[i])\n",
    "\n",
    "    pivots.sort()\n",
    "\n",
    "    logging.info(\"Newton interpolation\")\n",
    "    logging.info(f\"Pivot points: {pivots}\")\n",
    "\n",
    "    xs, ys = [list(t) for t in zip(*pivots)]\n",
    "\n",
    "    div_diffs = [[None for _ in pivots] for _ in pivots]\n",
    "    for i in range(len(pivots)):\n",
    "        div_diffs[i][i] = ys[i]\n",
    "    build_diffs(xs, div_diffs, 0, len(pivots) - 1)\n",
    "\n",
    "    logging.debug(f\"Divided differences intervals:\")\n",
    "    for i in range(len(pivots)):\n",
    "        for j in range(i, len(pivots)):\n",
    "            logging.debug(f\"{i}, {j}: {div_diffs[i][j]}\")\n",
    "\n",
    "    y = 0\n",
    "    for i in range(len(pivots)):\n",
    "        coef = 1\n",
    "        for j in range(i):\n",
    "            coef *= x - xs[j]\n",
    "        y += div_diffs[0][i] * coef\n",
    "        logging.info(f\"y value after point {i}: {y}\")\n",
    "\n",
    "    return y"
   ]
  },
  {
   "cell_type": "markdown",
   "id": "a5603547",
   "metadata": {},
   "source": [
    "Оценка для $X^*$ = 3"
   ]
  },
  {
   "cell_type": "code",
   "execution_count": 4,
   "id": "47da1c27",
   "metadata": {},
   "outputs": [
    {
     "name": "stdout",
     "output_type": "stream",
     "text": [
      "Real y value:          1.7320508075688772\n",
      "y value from Lagrange: 1.7517775793854795\n",
      "y value from Newton:   1.774713393520687\n"
     ]
    }
   ],
   "source": [
    "f = lambda x : np.sqrt(x)\n",
    "\n",
    "xs_a = [0, 1.7, 3.4, 5.1]\n",
    "xs_b = [0, 1.7, 4.0, 5.1]\n",
    "\n",
    "points_a = list(map(lambda x : (x, f(x)), xs_a))\n",
    "points_b = list(map(lambda x : (x, f(x)), xs_b))\n",
    "\n",
    "x = 3\n",
    "real_y = f(x)\n",
    "lagrange_y = lagrange_interpolate(x, points_a)\n",
    "newton_y = newton_interpolate(x, points_b)\n",
    "\n",
    "print(\"Real y value:         \", real_y)\n",
    "print(\"y value from Lagrange:\", lagrange_y)\n",
    "print(\"y value from Newton:  \", newton_y)"
   ]
  },
  {
   "cell_type": "markdown",
   "id": "e2ff0049",
   "metadata": {},
   "source": [
    "## Графики"
   ]
  },
  {
   "cell_type": "code",
   "execution_count": 5,
   "id": "592b4474",
   "metadata": {},
   "outputs": [],
   "source": [
    "logging.basicConfig(level=logging.ERROR)"
   ]
  },
  {
   "cell_type": "markdown",
   "id": "16f82771",
   "metadata": {},
   "source": [
    "### Интерполяционный многочлен Лагранжа"
   ]
  },
  {
   "cell_type": "code",
   "execution_count": 6,
   "id": "1ea4ee1e",
   "metadata": {},
   "outputs": [
    {
     "data": {
      "image/png": "[encoded data removed]",
      "text/plain": [
       "<Figure size 432x288 with 1 Axes>"
      ]
     },
     "metadata": {
      "needs_background": "light"
     },
     "output_type": "display_data"
    }
   ],
   "source": [
    "x = np.linspace(0, 6, 120)\n",
    "plt.plot(x, f(x), label=\"Real function\")\n",
    "plt.plot(x, lagrange_interpolate(x, points_a), '--', label=\"Lagrange\")\n",
    "plt.plot(xs_a, f(xs_a), '*', label=\"Pivot points\")\n",
    "\n",
    "plt.legend(title=\"Function type\")\n",
    "plt.grid(color=\"0.95\")\n",
    "plt.show()"
   ]
  },
  {
   "cell_type": "code",
   "execution_count": 7,
   "id": "d77a9128",
   "metadata": {},
   "outputs": [
    {
     "data": {
      "image/png": "[encoded data removed]",
      "text/plain": [
       "<Figure size 432x288 with 1 Axes>"
      ]
     },
     "metadata": {
      "needs_background": "light"
     },
     "output_type": "display_data"
    }
   ],
   "source": [
    "plt.plot(x, f(x), label=\"Real function\")\n",
    "plt.plot(x, newton_interpolate(x, points_b), '--', label=\"Newton\")\n",
    "plt.plot(xs_b, f(xs_b), '*', label=\"Pivot points\")\n",
    "\n",
    "plt.legend(title=\"Function type\")\n",
    "plt.grid(color=\"0.95\")\n",
    "plt.show()"
   ]
  }
 ],
 "metadata": {
  "kernelspec": {
   "display_name": "Python 3",
   "language": "python",
   "name": "python3"
  },
  "language_info": {
   "codemirror_mode": {
    "name": "ipython",
    "version": 3
   },
   "file_extension": ".py",
   "mimetype": "text/x-python",
   "name": "python",
   "nbconvert_exporter": "python",
   "pygments_lexer": "ipython3",
   "version": "3.9.5"
  }
 },
 "nbformat": 4,
 "nbformat_minor": 5
}
