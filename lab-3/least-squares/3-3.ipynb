{
 "cells": [
  {
   "cell_type": "markdown",
   "id": "07625b0f",
   "metadata": {},
   "source": [
    "# Лабораторная 1\n",
    "## Подраздел: Метод наименьших квадратов\n",
    "\n",
    "* Cтудент: Ефимов А.В.\n",
    "* Группа: М8О-307Б\n",
    "* Вариант: 7"
   ]
  },
  {
   "cell_type": "markdown",
   "id": "2f75cfc5",
   "metadata": {},
   "source": [
    "## Задание"
   ]
  },
  {
   "cell_type": "markdown",
   "id": "27deb2f5",
   "metadata": {},
   "source": [
    "Для таблично заданной функции путем решения нормальной\n",
    "системы МНК найти приближающие многочлены a)1-ой и б)2-ой \n",
    "степени. Для каждого из приближающих многочленов вычислить\n",
    "сумму квадратов ошибок. Построить графики приближаемой\n",
    "функции и приближающих многочленов. "
   ]
  },
  {
   "cell_type": "markdown",
   "id": "4218cc50",
   "metadata": {},
   "source": [
    "## Решение"
   ]
  },
  {
   "cell_type": "markdown",
   "id": "793a5a9f",
   "metadata": {},
   "source": [
    "Загрузка и настройка библиотек:"
   ]
  },
  {
   "cell_type": "code",
   "execution_count": 1,
   "id": "7033598e",
   "metadata": {},
   "outputs": [],
   "source": [
    "import numpy as np\n",
    "import matplotlib.pyplot as plt\n",
    "from math import exp, sqrt\n",
    "\n",
    "np.set_printoptions(suppress=True)"
   ]
  },
  {
   "cell_type": "markdown",
   "id": "c660a4b2",
   "metadata": {},
   "source": [
    "Высчет многочлена:"
   ]
  },
  {
   "cell_type": "code",
   "execution_count": 2,
   "id": "8c9a318d",
   "metadata": {},
   "outputs": [],
   "source": [
    "def calc_poly(x, y, n):\n",
    "    def calc_matrix(x, n):\n",
    "        power_sums = np.array([sum(x ** i) for i in range(2 * n + 1)])\n",
    "        matrix = np.zeros(((n + 1), (n + 1)))\n",
    "        for i in range(n + 1):\n",
    "            matrix[i, :] = power_sums[i:i+(n+1)]\n",
    "            matrix[:, i] = power_sums[i:i+(n+1)]\n",
    "        return matrix\n",
    "\n",
    "    def calc_coeffs(x, y, n):\n",
    "        return np.array([sum(y * x ** i) for i in range(n + 1)])\n",
    "\n",
    "    matrix = calc_matrix(x, n)\n",
    "    coeffs = calc_coeffs(x, y, n)\n",
    "    return np.linalg.solve(matrix, coeffs)"
   ]
  },
  {
   "cell_type": "markdown",
   "id": "6c174058",
   "metadata": {},
   "source": [
    "Интерполяция, оценка погрешности:"
   ]
  },
  {
   "cell_type": "code",
   "execution_count": 3,
   "id": "f5dc6e90",
   "metadata": {},
   "outputs": [],
   "source": [
    "def interpolate_point(x, poly):\n",
    "    y = 0\n",
    "    for a in np.flip(poly):\n",
    "        y = y * x + a\n",
    "    return y\n",
    "\n",
    "def calculate_error(x, y, poly):\n",
    "    interp = interpolate_point(x, poly)\n",
    "    return np.sum((interp - y) ** 2)"
   ]
  },
  {
   "cell_type": "markdown",
   "id": "73926d79",
   "metadata": {},
   "source": [
    "Оценка погрешности:"
   ]
  },
  {
   "cell_type": "code",
   "execution_count": 4,
   "id": "f05df957",
   "metadata": {},
   "outputs": [
    {
     "name": "stdout",
     "output_type": "stream",
     "text": [
      "Polynomial 1 error: 4621.155538740099\n",
      "Polynomial 2 error: 618.4511052118866\n"
     ]
    }
   ],
   "source": [
    "p_count = 6\n",
    "xs = np.arange(p_count)\n",
    "ys = np.exp(xs)\n",
    "\n",
    "poly_1 = calc_poly(xs, ys, 1)\n",
    "poly_2 = calc_poly(xs, ys, 2)\n",
    "\n",
    "print(\"Polynomial 1 error:\", calculate_error(xs, ys, poly_1))\n",
    "print(\"Polynomial 2 error:\", calculate_error(xs, ys, poly_2))"
   ]
  },
  {
   "cell_type": "markdown",
   "id": "81839e72",
   "metadata": {},
   "source": [
    "График:"
   ]
  },
  {
   "cell_type": "code",
   "execution_count": 5,
   "id": "35926e24",
   "metadata": {},
   "outputs": [
    {
     "data": {
      "image/png": "[encoded data removed]",
      "text/plain": [
       "<Figure size 432x288 with 1 Axes>"
      ]
     },
     "metadata": {
      "needs_background": "light"
     },
     "output_type": "display_data"
    }
   ],
   "source": [
    "x = np.linspace(0, 5, 100)\n",
    "plt.plot(x, np.exp(x), label=\"Real function\")\n",
    "plt.plot(x, interpolate_point(x, poly_1), '--', label=\"First order polynomial\")\n",
    "plt.plot(x, interpolate_point(x, poly_2), '--', label=\"Second order polynomial\")\n",
    "\n",
    "plt.legend(title=\"Function type\")\n",
    "plt.grid(color=\"0.95\")\n",
    "plt.show()"
   ]
  }
 ],
 "metadata": {
  "kernelspec": {
   "display_name": "Python 3",
   "language": "python",
   "name": "python3"
  },
  "language_info": {
   "codemirror_mode": {
    "name": "ipython",
    "version": 3
   },
   "file_extension": ".py",
   "mimetype": "text/x-python",
   "name": "python",
   "nbconvert_exporter": "python",
   "pygments_lexer": "ipython3",
   "version": "3.9.5"
  }
 },
 "nbformat": 4,
 "nbformat_minor": 5
}
