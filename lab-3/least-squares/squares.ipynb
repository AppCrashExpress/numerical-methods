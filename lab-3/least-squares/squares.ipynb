{
 "cells": [
  {
   "cell_type": "code",
   "execution_count": 1,
   "id": "59a86ba9",
   "metadata": {},
   "outputs": [],
   "source": [
    "# %load squares.py\n",
    "import numpy as np\n",
    "from math import exp, sqrt\n",
    "\n",
    "np.set_printoptions(suppress=True)\n",
    "\n",
    "def calc_poly(x, y, n):\n",
    "    def calc_matrix(x, n):\n",
    "        power_sums = np.array([sum(x ** i) for i in range(2 * n + 1)])\n",
    "        matrix = np.zeros(((n + 1), (n + 1)))\n",
    "        for i in range(n + 1):\n",
    "            matrix[i, :] = power_sums[i:i+(n+1)]\n",
    "            matrix[:, i] = power_sums[i:i+(n+1)]\n",
    "        return matrix\n",
    "\n",
    "    def calc_coeffs(x, y, n):\n",
    "        return np.array([sum(y * x ** i) for i in range(n + 1)])\n",
    "\n",
    "    matrix = calc_matrix(x, n)\n",
    "    coeffs = calc_coeffs(x, y, n)\n",
    "    return np.linalg.solve(matrix, coeffs)\n",
    "\n",
    "def interpolate_point(x, poly):\n",
    "    y = 0\n",
    "    for a in np.flip(poly):\n",
    "        y = y * x + a\n",
    "    return y\n",
    "\n"
   ]
  },
  {
   "cell_type": "code",
   "execution_count": 2,
   "id": "83cdd5e1",
   "metadata": {},
   "outputs": [],
   "source": [
    "p_count = 6\n",
    "xs = np.arange(p_count)\n",
    "ys = np.exp(xs)"
   ]
  },
  {
   "cell_type": "code",
   "execution_count": 3,
   "id": "8eb78c73",
   "metadata": {},
   "outputs": [],
   "source": [
    "poly_1 = calc_poly(xs, ys, 1)\n",
    "poly_2 = calc_poly(xs, ys, 2)"
   ]
  },
  {
   "cell_type": "code",
   "execution_count": 4,
   "id": "c16cd45b",
   "metadata": {},
   "outputs": [
    {
     "ename": "NameError",
     "evalue": "name 'plt' is not defined",
     "output_type": "error",
     "traceback": [
      "\u001b[0;31m---------------------------------------------------------------------------\u001b[0m",
      "\u001b[0;31mNameError\u001b[0m                                 Traceback (most recent call last)",
      "\u001b[0;32m<ipython-input-4-6d65bdbde115>\u001b[0m in \u001b[0;36m<module>\u001b[0;34m\u001b[0m\n\u001b[1;32m      1\u001b[0m \u001b[0mx\u001b[0m \u001b[0;34m=\u001b[0m \u001b[0mnp\u001b[0m\u001b[0;34m.\u001b[0m\u001b[0mlinspace\u001b[0m\u001b[0;34m(\u001b[0m\u001b[0;36m0\u001b[0m\u001b[0;34m,\u001b[0m \u001b[0;36m5\u001b[0m\u001b[0;34m,\u001b[0m \u001b[0;36m100\u001b[0m\u001b[0;34m)\u001b[0m\u001b[0;34m\u001b[0m\u001b[0;34m\u001b[0m\u001b[0m\n\u001b[0;32m----> 2\u001b[0;31m \u001b[0mplt\u001b[0m\u001b[0;34m.\u001b[0m\u001b[0mplot\u001b[0m\u001b[0;34m(\u001b[0m\u001b[0mx\u001b[0m\u001b[0;34m,\u001b[0m \u001b[0mnp\u001b[0m\u001b[0;34m.\u001b[0m\u001b[0mexp\u001b[0m\u001b[0;34m(\u001b[0m\u001b[0mx\u001b[0m\u001b[0;34m)\u001b[0m\u001b[0;34m,\u001b[0m \u001b[0mlabel\u001b[0m\u001b[0;34m=\u001b[0m\u001b[0;34m\"Real function\"\u001b[0m\u001b[0;34m)\u001b[0m\u001b[0;34m\u001b[0m\u001b[0;34m\u001b[0m\u001b[0m\n\u001b[0m\u001b[1;32m      3\u001b[0m \u001b[0mplt\u001b[0m\u001b[0;34m.\u001b[0m\u001b[0mplot\u001b[0m\u001b[0;34m(\u001b[0m\u001b[0mx\u001b[0m\u001b[0;34m,\u001b[0m \u001b[0minterpolate_point\u001b[0m\u001b[0;34m(\u001b[0m\u001b[0mx\u001b[0m\u001b[0;34m,\u001b[0m \u001b[0mpoly_1\u001b[0m\u001b[0;34m)\u001b[0m\u001b[0;34m,\u001b[0m \u001b[0;34m'--'\u001b[0m\u001b[0;34m,\u001b[0m \u001b[0mlabel\u001b[0m\u001b[0;34m=\u001b[0m\u001b[0;34m\"First order polynomial\"\u001b[0m\u001b[0;34m)\u001b[0m\u001b[0;34m\u001b[0m\u001b[0;34m\u001b[0m\u001b[0m\n\u001b[1;32m      4\u001b[0m \u001b[0mplt\u001b[0m\u001b[0;34m.\u001b[0m\u001b[0mplot\u001b[0m\u001b[0;34m(\u001b[0m\u001b[0mx\u001b[0m\u001b[0;34m,\u001b[0m \u001b[0minterpolate_point\u001b[0m\u001b[0;34m(\u001b[0m\u001b[0mx\u001b[0m\u001b[0;34m,\u001b[0m \u001b[0mpoly_2\u001b[0m\u001b[0;34m)\u001b[0m\u001b[0;34m,\u001b[0m \u001b[0;34m'--'\u001b[0m\u001b[0;34m,\u001b[0m \u001b[0mlabel\u001b[0m\u001b[0;34m=\u001b[0m\u001b[0;34m\"Second order polynomial\"\u001b[0m\u001b[0;34m)\u001b[0m\u001b[0;34m\u001b[0m\u001b[0;34m\u001b[0m\u001b[0m\n\u001b[1;32m      5\u001b[0m \u001b[0;34m\u001b[0m\u001b[0m\n",
      "\u001b[0;31mNameError\u001b[0m: name 'plt' is not defined"
     ]
    }
   ],
   "source": [
    "x = np.linspace(0, 5, 100)\n",
    "plt.plot(x, np.exp(x), label=\"Real function\")\n",
    "plt.plot(x, interpolate_point(x, poly_1), '--', label=\"First order polynomial\")\n",
    "plt.plot(x, interpolate_point(x, poly_2), '--', label=\"Second order polynomial\")\n",
    "\n",
    "plt.legend(title=\"Function type\")\n",
    "plt.grid(color=\"0.95\")\n",
    "plt.show()"
   ]
  }
 ],
 "metadata": {
  "kernelspec": {
   "display_name": "Python 3",
   "language": "python",
   "name": "python3"
  },
  "language_info": {
   "codemirror_mode": {
    "name": "ipython",
    "version": 3
   },
   "file_extension": ".py",
   "mimetype": "text/x-python",
   "name": "python",
   "nbconvert_exporter": "python",
   "pygments_lexer": "ipython3",
   "version": "3.9.5"
  }
 },
 "nbformat": 4,
 "nbformat_minor": 5
}
