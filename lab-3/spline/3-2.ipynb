{
 "cells": [
  {
   "cell_type": "markdown",
   "id": "66c0fe63",
   "metadata": {},
   "source": [
    "# Лабораторная 3\n",
    "## Подраздел: Кубический сплайн\n",
    "\n",
    "* Cтудент: Ефимов А.В.\n",
    "* Группа: М8О-307Б\n",
    "* Вариант: 7"
   ]
  },
  {
   "cell_type": "markdown",
   "id": "a8abb481",
   "metadata": {},
   "source": [
    "## Задание"
   ]
  },
  {
   "cell_type": "markdown",
   "id": "a19e6321",
   "metadata": {},
   "source": [
    "Построить кубический сплайн для функции, \n",
    "заданной в узлах интерполяции, предполагая,\n",
    "что сплайн имеет нулевую кривизну при $x=x_0$ и $x=x_4$.\n",
    "Вычислить значение функции в точке $x=X^*$. "
   ]
  },
  {
   "cell_type": "markdown",
   "id": "44dbaf13",
   "metadata": {},
   "source": [
    "## Решение"
   ]
  },
  {
   "cell_type": "markdown",
   "id": "0ad711d7",
   "metadata": {},
   "source": [
    "Загрузка библиотек:"
   ]
  },
  {
   "cell_type": "code",
   "execution_count": 1,
   "id": "53be9a30",
   "metadata": {},
   "outputs": [],
   "source": [
    "import logging\n",
    "import numpy as np\n",
    "import matplotlib.pyplot as plt\n",
    "from tridiagonal import solve_tridiagonal"
   ]
  },
  {
   "cell_type": "markdown",
   "id": "55bc1c35",
   "metadata": {},
   "source": [
    "Подсчет коэффициентов многочленов:"
   ]
  },
  {
   "cell_type": "code",
   "execution_count": 2,
   "id": "0cc8ff79",
   "metadata": {},
   "outputs": [],
   "source": [
    "def make_splines(xs, ys):\n",
    "    def get_diffs(xs):\n",
    "        dx = np.zeros_like(xs)\n",
    "        dx[1:] = np.diff(xs)\n",
    "        return dx\n",
    "    \n",
    "    def get_a_coeffs(ys):\n",
    "        a = np.zeros_like(ys)\n",
    "        a[1:] = ys[:-1]\n",
    "        return a\n",
    "    \n",
    "    def get_c_coeffs(dx, ys):\n",
    "        n = len(ys)\n",
    "        b = np.array([3 * ( (ys[i]-ys[i-1])/dx[i] - (ys[i-1]-ys[i-2])/dx[i-1] ) for i in range(2,n) ])\n",
    "        u = dx[2:-1]\n",
    "        m = 2*( dx[1:-1] + dx[2:] )\n",
    "        l = dx[2:-1]\n",
    "        \n",
    "        c = np.zeros_like(ys)\n",
    "        c[2:] = solve_tridiagonal(u.tolist(), m.tolist(), l.tolist(), b.tolist())\n",
    "        return np.array(c)\n",
    "    \n",
    "    def get_b_coeffs(dx, ys, c):\n",
    "        b = np.zeros_like(ys)\n",
    "        b[1:-1] = [(ys[i]-ys[i-1])/dx[i] - dx[i]*(c[i+1] + 2*c[i])/3 for i in range(1,len(ys)-1)]\n",
    "        b[-1] = (ys[-1]-ys[-2])/dx[-1] - 2/3*dx[-1]*c[-1]\n",
    "        return b\n",
    "\n",
    "    def get_d_coeffs(dx, ys, c):\n",
    "        d = np.zeros_like(ys)\n",
    "        l = [(c[i+1]-c[i])/(3*dx[i]) for i in range(1, len(dx) - 1)]\n",
    "        d[1:-1] = l\n",
    "        d[-1] = -c[-1]/(3*dx[-1])\n",
    "        return d\n",
    "    \n",
    "    dx = get_diffs(xs)\n",
    "    a  = get_a_coeffs(ys)\n",
    "    c  = get_c_coeffs(dx, ys)\n",
    "    b  = get_b_coeffs(dx, ys, c)\n",
    "    d  = get_d_coeffs(dx, ys, c)\n",
    "    \n",
    "    return (a, b, c, d)"
   ]
  },
  {
   "cell_type": "markdown",
   "id": "70508896",
   "metadata": {},
   "source": [
    "Интерполяция:"
   ]
  },
  {
   "cell_type": "code",
   "execution_count": 3,
   "id": "9f4cb1fd",
   "metadata": {},
   "outputs": [],
   "source": [
    "def interpolate(x, xs, a, b, c, d):\n",
    "    def find_interval(x, xs):\n",
    "        for i in range(1, len(xs)):\n",
    "            if x >= xs[i-1] and x <= xs[i]:\n",
    "                return i\n",
    "\n",
    "    i = find_interval(x, xs)\n",
    "    diff = x - xs[i-1]\n",
    "    return a[i] + b[i] * diff + c[i] * (diff ** 2) + d[i] * (diff ** 3)"
   ]
  },
  {
   "cell_type": "markdown",
   "id": "e78745c8",
   "metadata": {},
   "source": [
    "Оценка погрешности:"
   ]
  },
  {
   "cell_type": "code",
   "execution_count": 4,
   "id": "b515eddd",
   "metadata": {},
   "outputs": [
    {
     "name": "stdout",
     "output_type": "stream",
     "text": [
      "Point x: [0.  1.7 3.4 5.1 6.8]\n",
      "Point y: [0.         1.30384048 1.84390889 2.25831796 2.60768096]\n",
      "For point 3 interpolated value is 1.7531711266906167, when expected 1.7320508075688772\n",
      "Error: 0.012046923885637661\n"
     ]
    }
   ],
   "source": [
    "f = lambda x : np.sqrt(x)\n",
    "points = [(i * 1.7, f(i * 1.7)) for i in range(5)]\n",
    "x = 3\n",
    "\n",
    "xs, ys = map(np.array, [list(t) for t in zip(*points)])\n",
    "\n",
    "print(f\"Point x: {xs}\")\n",
    "print(f\"Point y: {ys}\")\n",
    "\n",
    "a, b, c, d = make_splines(xs, ys)\n",
    "\n",
    "real_y   = f(x)\n",
    "interp_y = interpolate(x, xs, a, b, c, d)\n",
    "print(f\"For point {x} interpolated value is {interp_y}, when expected {f(x)}\")\n",
    "print(f\"Error: {1 - min(interp_y, real_y) / max(interp_y, real_y)}\")"
   ]
  },
  {
   "cell_type": "markdown",
   "id": "b6c542d2",
   "metadata": {},
   "source": [
    "График:"
   ]
  },
  {
   "cell_type": "code",
   "execution_count": 5,
   "id": "723318d9",
   "metadata": {},
   "outputs": [
    {
     "data": {
      "image/png": "[encoded data removed]",
      "text/plain": [
       "<Figure size 432x288 with 1 Axes>"
      ]
     },
     "metadata": {
      "needs_background": "light"
     },
     "output_type": "display_data"
    }
   ],
   "source": [
    "x = np.linspace(xs[0], xs[-1], 140)\n",
    "plt.plot(x, f(x), label=\"Real function\")\n",
    "plt.plot(x, [interpolate(xi, xs, a, b, c, d) for xi in x], '--', label=\"Spline\")\n",
    "plt.plot(xs, ys, '*', label=\"Pivots\")\n",
    "\n",
    "plt.legend(title=\"Function type\")\n",
    "plt.grid(color=\"0.95\")\n",
    "plt.show()"
   ]
  }
 ],
 "metadata": {
  "kernelspec": {
   "display_name": "Python 3",
   "language": "python",
   "name": "python3"
  },
  "language_info": {
   "codemirror_mode": {
    "name": "ipython",
    "version": 3
   },
   "file_extension": ".py",
   "mimetype": "text/x-python",
   "name": "python",
   "nbconvert_exporter": "python",
   "pygments_lexer": "ipython3",
   "version": "3.9.5"
  }
 },
 "nbformat": 4,
 "nbformat_minor": 5
}
